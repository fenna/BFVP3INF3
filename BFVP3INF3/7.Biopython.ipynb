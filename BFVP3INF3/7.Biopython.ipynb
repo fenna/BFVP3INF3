{
 "cells": [
  {
   "cell_type": "markdown",
   "metadata": {},
   "source": [
    "# Biopython\n",
    "\n",
    "Als je een probleem wilt oplossen, neem dan even de tijd en kijk of iemand anders (een deel van) het probleem al voor je heeft opgelost. \n",
    "In dit deel gaan we kijken naar een library die relevant kan zijn voor je bio-informatica-uitdagingen: **Biopython**. Biopython is een hele nuttige library met functionaliteiten voor het parsen van allerlei bioinformatica-bestanden zoals Blast outputs, PDB, FASTA, GenBank etc. Ook kan het makkelijk omgaan met portals zoals NCBI. Het heeft allerlei methodes beschikbaar voor het bewerken van sequences zoals transcriptions, translations, \n",
    "\n",
    "Verder heeft deze library hulpmiddelen voor het uitvoeren van algemene bewerkingen op sequenties, zoals vertaling, transcriptie en gewichtsberekeningen, code voor allignments en nog veel meer. "
   ]
  },
  {
   "cell_type": "raw",
   "metadata": {},
   "source": [
    "#installeren biopython via terminal\n",
    "pip install biopython\n",
    "pip install --upgrade biopython"
   ]
  },
  {
   "cell_type": "markdown",
   "metadata": {},
   "source": [
    "zie ook https://github.com/biopython/biopython/blob/master/README.rst"
   ]
  },
  {
   "cell_type": "markdown",
   "metadata": {},
   "source": [
    "Laten we eens kijken naar de Sequentie class"
   ]
  },
  {
   "cell_type": "code",
   "execution_count": 1,
   "metadata": {},
   "outputs": [
    {
     "data": {
      "text/plain": [
       "['__add__',\n",
       " '__class__',\n",
       " '__contains__',\n",
       " '__delattr__',\n",
       " '__dict__',\n",
       " '__dir__',\n",
       " '__doc__',\n",
       " '__eq__',\n",
       " '__format__',\n",
       " '__ge__',\n",
       " '__getattribute__',\n",
       " '__getitem__',\n",
       " '__gt__',\n",
       " '__hash__',\n",
       " '__imul__',\n",
       " '__init__',\n",
       " '__init_subclass__',\n",
       " '__le__',\n",
       " '__len__',\n",
       " '__lt__',\n",
       " '__module__',\n",
       " '__mul__',\n",
       " '__ne__',\n",
       " '__new__',\n",
       " '__radd__',\n",
       " '__reduce__',\n",
       " '__reduce_ex__',\n",
       " '__repr__',\n",
       " '__rmul__',\n",
       " '__setattr__',\n",
       " '__sizeof__',\n",
       " '__str__',\n",
       " '__subclasshook__',\n",
       " '__weakref__',\n",
       " 'back_transcribe',\n",
       " 'complement',\n",
       " 'complement_rna',\n",
       " 'count',\n",
       " 'count_overlap',\n",
       " 'encode',\n",
       " 'endswith',\n",
       " 'find',\n",
       " 'index',\n",
       " 'join',\n",
       " 'lower',\n",
       " 'lstrip',\n",
       " 'reverse_complement',\n",
       " 'reverse_complement_rna',\n",
       " 'rfind',\n",
       " 'rindex',\n",
       " 'rsplit',\n",
       " 'rstrip',\n",
       " 'split',\n",
       " 'startswith',\n",
       " 'strip',\n",
       " 'tomutable',\n",
       " 'transcribe',\n",
       " 'translate',\n",
       " 'ungap',\n",
       " 'upper']"
      ]
     },
     "execution_count": 1,
     "metadata": {},
     "output_type": "execute_result"
    }
   ],
   "source": [
    "from Bio.Seq import Seq\n",
    "dir(Seq)"
   ]
  },
  {
   "cell_type": "markdown",
   "metadata": {},
   "source": [
    "Zoals je ziet zitten er allerlei methodes in de `Seq` class. Laten we er eens een wat meer bestuderen"
   ]
  },
  {
   "cell_type": "code",
   "execution_count": 2,
   "metadata": {},
   "outputs": [
    {
     "name": "stdout",
     "output_type": "stream",
     "text": [
      "Help on function ungap in module Bio.Seq:\n",
      "\n",
      "ungap(self, gap='-')\n",
      "    Return a copy of the sequence without the gap character(s).\n",
      "    \n",
      "    The gap character now defaults to the minus sign, and can only\n",
      "    be specified via the method argument. This is no longer possible\n",
      "    via the sequence's alphabet (as was possible up to Biopython 1.77):\n",
      "    \n",
      "    >>> from Bio.Seq import Seq\n",
      "    >>> my_dna = Seq(\"-ATA--TGAAAT-TTGAAAA\")\n",
      "    >>> my_dna\n",
      "    Seq('-ATA--TGAAAT-TTGAAAA')\n",
      "    >>> my_dna.ungap(\"-\")\n",
      "    Seq('ATATGAAATTTGAAAA')\n",
      "\n"
     ]
    }
   ],
   "source": [
    "help(Seq.ungap)"
   ]
  },
  {
   "cell_type": "markdown",
   "metadata": {},
   "source": [
    "## Doe opdracht\n",
    "1. Bekijk de methode `Seq.reverse_complement()` en de `methode Seq.count()`\n",
    "2. Maak een test scriptje om de code uit de beschrijvingen uit te proberen\n",
    "---"
   ]
  },
  {
   "cell_type": "markdown",
   "metadata": {},
   "source": [
    "## Analyseer opdracht\n",
    "Hieronder zie je een stukje code. Beschrijf in je eigen woorden wat de code doet en hoe het werkt"
   ]
  },
  {
   "cell_type": "code",
   "execution_count": 8,
   "metadata": {},
   "outputs": [
    {
     "name": "stdout",
     "output_type": "stream",
     "text": [
      "Seq('AUGGCCAUUGUAAUGGGCCGCUGAAAGGGUGCCCGAUAG')\n",
      "MAIVMGR*KGAR*\n",
      "MAIVMGR\n"
     ]
    }
   ],
   "source": [
    "from Bio.Seq import Seq\n",
    "\n",
    "coding_dna = Seq(\"ATGGCCATTGTAATGGGCCGCTGAAAGGGTGCCCGATAG\")\n",
    "messenger_rna = coding_dna.transcribe()\n",
    "print(repr(messenger_rna))\n",
    "print(messenger_rna.translate())\n",
    "print(messenger_rna.translate(to_stop=True))"
   ]
  },
  {
   "cell_type": "markdown",
   "metadata": {},
   "source": [
    "---\n",
    "Biopython is ook heel handig voor het analyseren van meta data bij bijvoorbeeld een multifasta file"
   ]
  },
  {
   "cell_type": "code",
   "execution_count": 9,
   "metadata": {},
   "outputs": [
    {
     "name": "stdout",
     "output_type": "stream",
     "text": [
      "KY785484.1:5000-10596\n",
      "Seq('GGGAGAGTGATAGGACTTTATGGCAATGGGGTCGTGATCAAAAATGGGAGTTAT...CAG')\n",
      "5597\n",
      "KY785481.1:5000-10058\n",
      "Seq('AGTGTGGGAGAGTGATAGGACTTTATGGCAATGGGGTCGTGATCAAAAACGGGA...AGA')\n",
      "5059\n",
      "KY785480.1:5000-10123\n",
      "Seq('CTCTGGAACAGAAATCGTCGACTTAATGTGCCATGCCACCTTCACTTCACGTCT...AGA')\n",
      "5124\n",
      "KY785479.1:5000-10364\n",
      "Seq('NNNNNNNNNNNNNNNNNNNNNNNNNNNNNNNNNNNNNNNNNNNNNNNNNNNNNN...GGC')\n",
      "5365\n"
     ]
    }
   ],
   "source": [
    "from Bio import SeqIO\n",
    "\n",
    "for seq_record in SeqIO.parse(\"data/multi.fasta\", \"fasta\"):\n",
    "    print(seq_record.id)\n",
    "    print(repr(seq_record.seq))\n",
    "    print(len(seq_record))"
   ]
  },
  {
   "cell_type": "markdown",
   "metadata": {},
   "source": [
    "---\n",
    "of het uitlezen van genbank files\n"
   ]
  },
  {
   "cell_type": "code",
   "execution_count": 10,
   "metadata": {},
   "outputs": [
    {
     "name": "stdout",
     "output_type": "stream",
     "text": [
      "NG_005905.2\n",
      "Homo sapiens\n",
      "Homo sapiens breast cancer 1, early onset (BRCA1), RefSeqGene (LRG_292) on chromosome 17\n",
      "TACCTTGATTTCGTATTCTGAGAGGCTGCTGCTTAGCGGTAGCCCCTTGGTTTCCGTGGCAACGGAAAAGCGCGGGAATTACAGATAAATTAAAACTGC\n",
      "42.92946088755866\n",
      "type: source\n",
      "location: [0:81189](+)\n",
      "qualifiers:\n",
      "    Key: chromosome, Value: ['17']\n",
      "    Key: db_xref, Value: ['taxon:9606']\n",
      "    Key: map, Value: ['17q21']\n",
      "    Key: mol_type, Value: ['genomic DNA']\n",
      "    Key: organism, Value: ['Homo sapiens']\n",
      "\n"
     ]
    }
   ],
   "source": [
    "from Bio import SeqIO\n",
    "from Bio.SeqUtils import GC\n",
    "\n",
    "for seq_record in SeqIO.parse(\"data/BRCA1.gbk\", \"genbank\"):\n",
    "    print(seq_record.id)\n",
    "    print(seq_record.annotations['organism'])\n",
    "    print(seq_record.description)\n",
    "    print(seq_record.seq[1:100])\n",
    "    print(GC(seq_record.seq))\n",
    "    print(seq_record.features[0])"
   ]
  },
  {
   "cell_type": "markdown",
   "metadata": {},
   "source": [
    "## Visualisatie met Biopython\n",
    "Biopython heeft ook een visualisatie classe `Bio.Graphics` De Bio.Graphics-module is afhankelijk van de Python-module `ReportLab`. Hoewel `ReportLab` gericht is op het produceren van PDF-bestanden, kan het ook ingekapselde PostScript- (EPS) en (SVG) -bestanden maken. Ook kan ReportLab, mits de Library (PIL) geinstalleerd is, ook  JPEG-, PNG-, GIF-, en BMP- bestanden maken\n"
   ]
  },
  {
   "cell_type": "code",
   "execution_count": 11,
   "metadata": {},
   "outputs": [],
   "source": [
    "from reportlab.lib import colors\n",
    "from reportlab.lib.units import cm\n",
    "from Bio.Graphics import GenomeDiagram\n",
    "from Bio import SeqIO\n",
    "from Bio.SeqFeature import SeqFeature, FeatureLocation\n",
    "\n",
    "record = SeqIO.read(\"data/NC_005816.gb\", \"genbank\")\n",
    "\n",
    "gd_diagram = GenomeDiagram.Diagram(record.id)\n",
    "gd_track_for_features = gd_diagram.new_track(1, name=\"Annotated Features\")\n",
    "gd_feature_set = gd_track_for_features.new_set()\n",
    "\n",
    "for feature in record.features:\n",
    "    if feature.type != \"gene\":\n",
    "        #Exclude this feature\n",
    "        continue\n",
    "    if len(gd_feature_set) % 2 == 0:\n",
    "        color = colors.blue\n",
    "    else:\n",
    "        color = colors.lightblue\n",
    "    gd_feature_set.add_feature(feature, sigil=\"ARROW\",\n",
    "                               color=color, label=True,\n",
    "                               label_size = 14, label_angle=0)\n",
    "\n",
    "#I want to include some strandless features, so for an example\n",
    "#will use EcoRI recognition sites etc.\n",
    "for site, name, color in [(\"GAATTC\",\"EcoRI\",colors.green),\n",
    "                          (\"CCCGGG\",\"SmaI\",colors.orange),\n",
    "                          (\"AAGCTT\",\"HindIII\",colors.red),\n",
    "                          (\"GGATCC\",\"BamHI\",colors.purple)]:\n",
    "    index = 0\n",
    "    while True:\n",
    "        index  = record.seq.find(site, start=index)\n",
    "        if index == -1 : break\n",
    "        feature = SeqFeature(FeatureLocation(index, index+len(site)))\n",
    "        gd_feature_set.add_feature(feature, color=color, name=name,\n",
    "                                   label=True, label_size = 10,\n",
    "                                   label_color=color)\n",
    "        index += len(site)\n",
    "\n",
    "gd_diagram.draw(format=\"linear\", pagesize='A4', fragments=4,\n",
    "                start=0, end=len(record))\n",
    "gd_diagram.write(\"plasmid_linear_nice.pdf\", \"PDF\")\n",
    "gd_diagram.write(\"plasmid_linear_nice.eps\", \"EPS\")\n",
    "gd_diagram.write(\"plasmid_linear_nice.svg\", \"SVG\")\n",
    "\n",
    "gd_diagram.draw(format=\"circular\", circular=True, pagesize=(20*cm,20*cm),\n",
    "                start=0, end=len(record), circle_core = 0.5)\n",
    "gd_diagram.write(\"plasmid_circular_nice.pdf\", \"PDF\")\n",
    "gd_diagram.write(\"plasmid_circular_nice.eps\", \"EPS\")\n",
    "gd_diagram.write(\"plasmid_circular_nice.svg\", \"SVG\")"
   ]
  },
  {
   "cell_type": "code",
   "execution_count": 12,
   "metadata": {},
   "outputs": [
    {
     "data": {
      "text/html": [
       "<img src=\"images/plasmid_circular_nice.svg\"/>\n"
      ],
      "text/plain": [
       "<IPython.core.display.HTML object>"
      ]
     },
     "metadata": {},
     "output_type": "display_data"
    }
   ],
   "source": [
    "%%html\n",
    "<img src=\"images/plasmid_circular_nice.svg\"/>"
   ]
  },
  {
   "cell_type": "code",
   "execution_count": 13,
   "metadata": {},
   "outputs": [
    {
     "data": {
      "text/html": [
       "<img src=\"images/plasmid_linear_nice.svg\"/>\n"
      ],
      "text/plain": [
       "<IPython.core.display.HTML object>"
      ]
     },
     "metadata": {},
     "output_type": "display_data"
    }
   ],
   "source": [
    "%%html\n",
    "<img src=\"images/plasmid_linear_nice.svg\"/>"
   ]
  },
  {
   "cell_type": "markdown",
   "metadata": {},
   "source": [
    "Bron: https://biopython-cn.readthedocs.io/zh_CN/latest/en/chr17.html en https://youtu.be/l8wLaoEGbUI"
   ]
  },
  {
   "cell_type": "markdown",
   "metadata": {},
   "source": [
    "## Lees opdracht\n",
    "\n",
    "Lees de volgende tutorials:\n",
    "\n",
    "- http://biopython.org/DIST/docs/tutorial/Tutorial.html#htoc2\n",
    "- https://biopython.org/wiki/Category%3ACookbook\n",
    "- https://biopython.org/wiki/Seq\n",
    "\n",
    "Welke code uit biopython kun je gebruiken voor de opdracht die hier beschreven staat? https://bioinf.nl/~fennaf/minor/WC02_IO2.html. En welke voor je practicum opdracht :-)\n",
    "    "
   ]
  }
 ],
 "metadata": {
  "kernelspec": {
   "display_name": "Python 3",
   "language": "python",
   "name": "python3"
  },
  "language_info": {
   "codemirror_mode": {
    "name": "ipython",
    "version": 3
   },
   "file_extension": ".py",
   "mimetype": "text/x-python",
   "name": "python",
   "nbconvert_exporter": "python",
   "pygments_lexer": "ipython3",
   "version": "3.8.7"
  }
 },
 "nbformat": 4,
 "nbformat_minor": 4
}
