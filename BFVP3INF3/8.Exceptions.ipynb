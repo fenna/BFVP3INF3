{
 "cells": [
  {
   "cell_type": "markdown",
   "metadata": {},
   "source": [
    "# Exception handling\n",
    "\n",
    "In sommige talen worden fouten (*exceptions*) aangegeven door speciale functie-retourwaarden (`return -1` bijvoorbeeld). Python gebruikt exceptions: code die wordt uitgevoerd wanneer er een bijbehorende fout optreedt. Je hebt er al enkele gezien, zoals een out-of-range positie, of een dictionary met een niet-bestaande sleutel. \n",
    "\n",
    "Wanneer je code uitvoert die onder bepaalde omstandigheden niet werkt, heb je iets nodig om die fouten af te vangen zodat het programma niet plotseling halverwege eindigt. Het is een goede gewoonte om exception-handling te gebruiken waar een exception zich kan voordoen, zodat de gebruiker weet wat er gebeurt. Je kunt het probleem mogelijk niet oplossen, maar je kunt in ieder geval laten weten waar het gebeurt en wat er gebeurt om vervolgens het programma netjes af te sluiten. \n",
    "\n",
    "Met exception-handling kunnen we dus op een nette manier omgaan met fouten en er ook iets zinvols aan doen. Bijvoorbeeld een bericht geven aan de gebruiker als een bestand niet is gevonden. Python handelt de exception handling af met `try, except`\n",
    "\n",
    "Basis Syntax:"
   ]
  },
  {
   "cell_type": "code",
   "execution_count": null,
   "metadata": {},
   "outputs": [],
   "source": [
    "try:\n",
    "    # write some code \n",
    "    # that might throw exception\n",
    "except <ExceptionType>: \n",
    "    # Exception handler, alert the user"
   ]
  },
  {
   "cell_type": "markdown",
   "metadata": {},
   "source": [
    "Bijvoorbeeld"
   ]
  },
  {
   "cell_type": "code",
   "execution_count": null,
   "metadata": {},
   "outputs": [],
   "source": [
    "try:\n",
    "    f = open('somefile.txt', 'r')\n",
    "    print(f.read())\n",
    "    f.close()\n",
    "except IOError:\n",
    "    print('file not found')"
   ]
  },
  {
   "cell_type": "markdown",
   "metadata": {},
   "source": [
    "De flow is als volgt: De eerste instructie tussen try en except block wordt uitgevoerd.\n",
    "\n",
    "`f = open('somefile.txt', 'r')`\n",
    "    \n",
    "Als er geen fout optreedt, wordt de code onder de `except` clausule overgeslagen. Als het bestand niet bestaat, wordt er een exception gegenereerd en wordt de rest van de code in het try-blok overgeslagen. Dit geldt dus voor de regels `print(f.read())` en `f.close()`.\n",
    "\n",
    "In het geval dat er wel een fout optreedt, wordt de code in de except clause uitgevoerd MITS de fouttype overeenkomt met de fout (in dit geval `IOError`). Een fout die niet optreedt wordt dan ook niet goed afgehandeld"
   ]
  },
  {
   "cell_type": "code",
   "execution_count": null,
   "metadata": {},
   "outputs": [],
   "source": [
    "try:\n",
    "    f = open('somefile.txt', 'r')\n",
    "    print(f.read())\n",
    "    f.close()\n",
    "except ZeroDivisionError: # dit moet natuurlijk IOError zijn\n",
    "    print('file not found')"
   ]
  },
  {
   "cell_type": "markdown",
   "metadata": {},
   "source": [
    "Ik kan dit afvangen door geen specifieke fout type mee te geven, maar dan vang ik *alle* fouten die kunnen voorkomen af en dan verlies ik weer informatie. Als iets anders de fout veroorzaakte zal de lezer geïnformeerd worden dat de file niet bestaat, terwijl die wel kan bestaan omdat de fout ergens anders door veroorzaakt wordt"
   ]
  },
  {
   "cell_type": "code",
   "execution_count": null,
   "metadata": {},
   "outputs": [],
   "source": [
    "try:\n",
    "    f = open('somefile.txt', 'r')\n",
    "    print(f.read())\n",
    "    f.close()\n",
    "except: \n",
    "    print('file not found')"
   ]
  },
  {
   "cell_type": "markdown",
   "metadata": {},
   "source": [
    "Een `try`-statement kan meer dan één `except` clause hebben. Het kan ook een `else` clausule hebben en `finally` een instructie bevatten. De `finally` clausule wordt altijd uitgevoerd."
   ]
  },
  {
   "cell_type": "code",
   "execution_count": null,
   "metadata": {},
   "outputs": [],
   "source": [
    "try:\n",
    "    <body>\n",
    "except <ExceptionType1>:\n",
    "    <handler1>\n",
    "except <ExceptionTypeN>:\n",
    "    <handlerN>\n",
    "except:\n",
    "    <handlerExcept>\n",
    "else:# deze wordt alleen uitgevoerd als er geen fout is opgetreden\n",
    "    <process_else>\n",
    "finally: #deze wordt altijd uitgevoerd\n",
    "    <process_finally>"
   ]
  },
  {
   "cell_type": "code",
   "execution_count": null,
   "metadata": {},
   "outputs": [],
   "source": [
    "try:\n",
    "    num1, num2 = eval(input(\"Enter two numbers, separated by a comma : \"))\n",
    "    result = num1 / num2\n",
    "    print(\"Result is\", result)\n",
    "\n",
    "except ZeroDivisionError:\n",
    "    print(\"Division by zero is error !!\")\n",
    "\n",
    "except SyntaxError:\n",
    "    print(\"Comma is missing. Enter numbers separated by comma like this 1, 2\")\n",
    "\n",
    "except:\n",
    "    print(\"Wrong input\")\n",
    "\n",
    "else:\n",
    "    print(\"No exceptions\")\n",
    "\n",
    "finally:\n",
    "    print(\"This will execute no matter what\")"
   ]
  },
  {
   "cell_type": "markdown",
   "metadata": {},
   "source": [
    "## Opdracht\n",
    "\n",
    "schrijf code die de een file probeert weg te schrijven; als dat mislukt print de message \"Failed\". Als het lukt print je de message \"succeeded\". Zorg er verder voor dat het bestand altijd wordt afgesloten."
   ]
  },
  {
   "cell_type": "markdown",
   "metadata": {},
   "source": [
    "## Zelf een exception ''raisen\"\n",
    "Je kunt ook zelf een exception activeren met het keyword `raise` de fouttype en de boodschap die je wilt printen. De basis syntax is \n",
    "\n",
    "`raise <ExceptionClass>(\"Your argument\")`\n",
    "    \n",
    "Een voorbeeld is hieronder:"
   ]
  },
  {
   "cell_type": "code",
   "execution_count": null,
   "metadata": {},
   "outputs": [],
   "source": [
    "duration = -1\n",
    "if duration < 0:\n",
    "    raise ValueError(\"Only positive numbers are allowed\")"
   ]
  },
  {
   "cell_type": "markdown",
   "metadata": {},
   "source": [
    "Het probleem is dan wel dat je een foutmelding krijgt en het script stopt. Je moet het dus nog wel afvangen"
   ]
  },
  {
   "cell_type": "code",
   "execution_count": null,
   "metadata": {},
   "outputs": [],
   "source": [
    "try:\n",
    "    duration = -1\n",
    "    if duration < 0:\n",
    "        raise ValueError(\"Only positive numbers are allowed\")\n",
    "\n",
    "except ValueError:\n",
    "    print(\"Only positive numbers are allowed\")\n",
    "except:\n",
    "    print(\"something is wrong\")"
   ]
  },
  {
   "cell_type": "markdown",
   "metadata": {},
   "source": [
    "# Best Practices"
   ]
  },
  {
   "cell_type": "markdown",
   "metadata": {},
   "source": [
    "## 1. Vervang Error code door betekenisvollere exception"
   ]
  },
  {
   "cell_type": "code",
   "execution_count": null,
   "metadata": {},
   "outputs": [],
   "source": [
    "# methode retourneert -1 wat eigenlijk een fout betekent\n",
    "def substract(self, amount):\n",
    "    if amount > self.max:\n",
    "        return -1\n",
    "    else:\n",
    "        self.max -= amount\n",
    "    return 0"
   ]
  },
  {
   "cell_type": "code",
   "execution_count": null,
   "metadata": {},
   "outputs": [],
   "source": [
    "#beter is een exception te raisen\n",
    "def substract(self, amount):\n",
    "    if amount > self.max:\n",
    "        raise MaxException()\n",
    "    self.max -= amount "
   ]
  },
  {
   "cell_type": "markdown",
   "metadata": {},
   "source": [
    "## 2. Vervang exceptions met testen\n",
    "Exceptions moeten worden gebruikt om onregelmatig gedrag in verband met een onverwachte fout af te handelen. Ze mogen geen vervanging zijn voor testen. Als een uitzondering kan worden voorkomen door simpelweg een voorwaarde te verifiëren, doe dat dan. Uitzonderingen moeten worden voorbehouden voor echte fouten."
   ]
  },
  {
   "cell_type": "code",
   "execution_count": null,
   "metadata": {},
   "outputs": [],
   "source": [
    "# niet zo goed\n",
    "def getX_value(self, index):\n",
    "    try:\n",
    "        return self.X[index]\n",
    "    except IndexError:\n",
    "        return 0"
   ]
  },
  {
   "cell_type": "code",
   "execution_count": null,
   "metadata": {},
   "outputs": [],
   "source": [
    "#beter\n",
    "def getX_value(self, index):\n",
    "    if  index < len(self.X):\n",
    "        return self.X[index]\n",
    "    return 0"
   ]
  },
  {
   "cell_type": "markdown",
   "metadata": {},
   "source": [
    "## 3. Wees informatief met je exception"
   ]
  },
  {
   "cell_type": "code",
   "execution_count": null,
   "metadata": {},
   "outputs": [],
   "source": [
    "try:\n",
    "    num1, num2 = eval(input(\"Enter two numbers, separated by a comma : \"))\n",
    "    result = num1 / num2\n",
    "    print(\"Result is\", result)\n",
    "\n",
    "except ZeroDivisionError:\n",
    "    print(\"Division by zero is error !!\")\n",
    "\n",
    "except SyntaxError:\n",
    "    print(\"Comma is missing. Enter numbers separated by comma like this 1, 2\")"
   ]
  },
  {
   "cell_type": "markdown",
   "metadata": {},
   "source": [
    "## 4. Maak je eigen exception class"
   ]
  },
  {
   "cell_type": "code",
   "execution_count": 28,
   "metadata": {},
   "outputs": [
    {
     "name": "stdout",
     "output_type": "stream",
     "text": [
      "Only positive numbers are allowed\n"
     ]
    }
   ],
   "source": [
    "class NegativeDurationException(RuntimeError):\n",
    "    def __init__(self, msg):\n",
    "        super().__init__()\n",
    "        self.message = msg\n",
    "        \n",
    "def check_duration():\n",
    "    duration = -1\n",
    "    if duration < 0:\n",
    "        raise NegativeDurationException(\"Only positive numbers are allowed\")\n",
    "\n",
    "try:\n",
    "    check_duration()\n",
    "except NegativeDurationException as ex:\n",
    "    print(ex.message)\n"
   ]
  },
  {
   "cell_type": "markdown",
   "metadata": {},
   "source": [
    "The klasse `NegativeDurationException(RuntimeError)` gebruikt de parentclass `RuntimeError`. Met `super().__init__()` wordt deze aangemaakt."
   ]
  },
  {
   "cell_type": "markdown",
   "metadata": {},
   "source": [
    "## Opdracht \n",
    "Maak je eigen exception klasse `UppercaseException(Exception)`. Raise deze exception als een string geen uppercase is (met een `if word.isupper()` test case). Vang deze ook goed af met een `try` en `except`."
   ]
  },
  {
   "cell_type": "code",
   "execution_count": null,
   "metadata": {},
   "outputs": [],
   "source": []
  }
 ],
 "metadata": {
  "kernelspec": {
   "display_name": "Python 3",
   "language": "python",
   "name": "python3"
  },
  "language_info": {
   "codemirror_mode": {
    "name": "ipython",
    "version": 3
   },
   "file_extension": ".py",
   "mimetype": "text/x-python",
   "name": "python",
   "nbconvert_exporter": "python",
   "pygments_lexer": "ipython3",
   "version": "3.8.7"
  }
 },
 "nbformat": 4,
 "nbformat_minor": 1
}
