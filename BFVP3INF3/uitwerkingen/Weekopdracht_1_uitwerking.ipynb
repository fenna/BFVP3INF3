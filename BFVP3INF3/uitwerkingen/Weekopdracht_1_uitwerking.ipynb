{
 "cells": [
  {
   "cell_type": "markdown",
   "metadata": {},
   "source": [
    "# Week 1 opdracht Uitwerkingen\n",
    "\n",
    "Middels deelopdrachten maak je twee classes: de classe Protein en de classe RestrictionEnzyme. Lever de beide classes in via blackboard"
   ]
  },
  {
   "cell_type": "markdown",
   "metadata": {},
   "source": [
    "### Assignment 1: Create a class that models/represents proteins:\n",
    "Instantiate the class and give it the attributes name and amino acid sequence. Then print the attributes to screen."
   ]
  },
  {
   "cell_type": "code",
   "execution_count": 1,
   "metadata": {},
   "outputs": [
    {
     "name": "stdout",
     "output_type": "stream",
     "text": [
      "Protein: name Glucose-6-phospatase, sequence: MEEGMNVLHDFGIQSTHYLQVNYQAVVPLASVSVIPYCLAQVLGQPHKKSL\n"
     ]
    }
   ],
   "source": [
    "class Protein():\n",
    "    #do not modify this\n",
    "    pass\n",
    "\n",
    "prot = Protein()\n",
    "prot.name = 'Glucose-6-phospatase'\n",
    "prot.sequence = 'MEEGMNVLHDFGIQSTHYLQVNYQAVVPLASVSVIPYCLAQVLGQPHKKSL'\n",
    "print('Protein: name {}, sequence: {}'.format(prot.name, prot.sequence))\n"
   ]
  },
  {
   "cell_type": "markdown",
   "metadata": {},
   "source": [
    "### Assignment 2: Create a class that models/represents proteins:\n",
    "Now make the attributes name and amino acid sequence mandatory by specifying them in a **constructor**. Again, instantiate a Protein object and print the attributes to screen.\n"
   ]
  },
  {
   "cell_type": "code",
   "execution_count": 2,
   "metadata": {},
   "outputs": [
    {
     "name": "stdout",
     "output_type": "stream",
     "text": [
      "Protein: name Glucose-6-phospatase, sequence: MEEGMNVLHDFGIQSTHYLQVNYQAVVPLASVSVIPYCLAQVLGQPHKKSL\n"
     ]
    }
   ],
   "source": [
    "class Protein():\n",
    "    # the constructor\n",
    "    def __init__(self, sequence, name):\n",
    "        self.sequence= sequence\n",
    "        self.name = name\n",
    "\n",
    "prot = Protein(\"MEEGMNVLHDFGIQSTHYLQVNYQAVVPLASVSVIPYCLAQVLGQPHKKSL\",\"Glucose-6-phospatase\")\n",
    "print('Protein: name {}, sequence: {}'.format(prot.name, prot.sequence))"
   ]
  },
  {
   "cell_type": "markdown",
   "metadata": {},
   "source": [
    "### Assignment 3: Create a class that models/represents proteins:\n",
    "Next, change the constructor to make the name attribute optional - give it the default value “UNNAMED PROTEIN”. Demonstrate construction of a Protein object both with and without name."
   ]
  },
  {
   "cell_type": "code",
   "execution_count": 3,
   "metadata": {},
   "outputs": [
    {
     "name": "stdout",
     "output_type": "stream",
     "text": [
      "Protein: name Glucose-6-phospatase, sequence: MEEGMNVLHDFGIQSTHYLQVNYQAVVPLASVSVIPYCLAQVLGQPHKKSL\n",
      "Protein: name UNNAMED PROTEIN, sequence: MEEGMNVLHDFGIQSTHYLQVNYQAVVPLASVSVIPYCLAQVLGQPHKKSL\n"
     ]
    }
   ],
   "source": [
    "class Protein():\n",
    "    def __init__(self, sequence, name='UNNAMED PROTEIN'):\n",
    "        self.sequence= sequence\n",
    "        self.name = name\n",
    "        \n",
    "prot = Protein(\"MEEGMNVLHDFGIQSTHYLQVNYQAVVPLASVSVIPYCLAQVLGQPHKKSL\",\"Glucose-6-phospatase\")\n",
    "print('Protein: name {}, sequence: {}'.format(prot.name, prot.sequence))\n",
    "prot = Protein(\"MEEGMNVLHDFGIQSTHYLQVNYQAVVPLASVSVIPYCLAQVLGQPHKKSL\")\n",
    "print('Protein: name {}, sequence: {}'.format(prot.name, prot.sequence))"
   ]
  },
  {
   "cell_type": "markdown",
   "metadata": {},
   "source": [
    "### Assignment 4: Create a class that models/represents proteins:\n",
    "Now, create a method that will generate a human-readable string representation of a Protein object when passed to print(). Take care that sequences longer than 20 amino acids get truncated. Hint: use `__str__`\n",
    "\n"
   ]
  },
  {
   "cell_type": "code",
   "execution_count": 4,
   "metadata": {},
   "outputs": [
    {
     "name": "stdout",
     "output_type": "stream",
     "text": [
      "Protein[name=Glucose-6-phospatase, seq=MEEGMNVLHDFGIQSTHYLQ...]\n"
     ]
    }
   ],
   "source": [
    "class Protein():\n",
    "    def __init__(self, sequence, name='UNNAMED PROTEIN'):\n",
    "        self.sequence= sequence\n",
    "        self.name = name\n",
    "\n",
    "    def __str__(self):\n",
    "        if len(self.sequence) < 20: \n",
    "            s = 'Protein[name={}, seq={}]'.format(self.name, self.sequence)\n",
    "        else:\n",
    "            s = 'Protein[name={}, seq={}]'.format(self.name, self.sequence[0:20]+'...')\n",
    "        return s\n",
    "\n",
    "prot = Protein(\"MEEGMNVLHDFGIQSTHYLQVNYQAVVPLASVSVIPYCLAQVLGQPHKKSL\",\"Glucose-6-phospatase\")\n",
    "print(prot)"
   ]
  },
  {
   "cell_type": "markdown",
   "metadata": {},
   "source": [
    "### Assignment 5: Create a class that models/represents proteins:\n",
    "Create a method that will generate a string representation of the protein in Fasta format. Look this format up on internet if you are not sure about it"
   ]
  },
  {
   "cell_type": "code",
   "execution_count": 5,
   "metadata": {},
   "outputs": [
    {
     "name": "stdout",
     "output_type": "stream",
     "text": [
      ">Glucose-6-phospatase\n",
      "MEEGMNVLHDFGIQSTHYLQVNYQAVVPLASVSVIPYCLAQVLGQPHKKSL\n",
      "\n"
     ]
    }
   ],
   "source": [
    "class Protein():\n",
    "    def __init__(self, sequence, name='UNNAMED PROTEIN'):\n",
    "        self.sequence= sequence\n",
    "        self.name = name\n",
    "\n",
    "        \n",
    "    def __str__(self):\n",
    "        if len(self.sequence) < 20: \n",
    "            s = 'Protein[name={}, seq={}]'.format(self.name, self.sequence)\n",
    "        else:\n",
    "            s = 'Protein[name={}, seq={}]'.format(self.name, self.sequence[0:20]+'...')\n",
    "        return s\n",
    "\n",
    "    \n",
    "    def to_fasta(self):\n",
    "          return '>{}\\n{}\\n'.format(self.name, self.sequence)\n",
    "    \n",
    "prot = Protein(\"MEEGMNVLHDFGIQSTHYLQVNYQAVVPLASVSVIPYCLAQVLGQPHKKSL\",\"Glucose-6-phospatase\")\n",
    "print(prot.to_fasta())"
   ]
  },
  {
   "cell_type": "markdown",
   "metadata": {},
   "source": [
    "### Assignment 6: Create a class that models/represents restriction enzymes, \n",
    "Create a constructor that takes two arguments, the name and the recognition sequence.\n"
   ]
  },
  {
   "cell_type": "code",
   "execution_count": 6,
   "metadata": {},
   "outputs": [],
   "source": [
    "class RestrictionEnzyme():\n",
    "    def __init__(self, name, recognitionSeq):\n",
    "        self.name = name\n",
    "        self.recognitionSeq = recognitionSeq.upper()"
   ]
  },
  {
   "cell_type": "markdown",
   "metadata": {},
   "source": [
    "### Assignment 7: Create a class that models/represents restriction enzymes\n",
    "Create a method that will generate a human-readable string representation of a RestrictionEnzyme object when passed to print(). (see assingment 4)"
   ]
  },
  {
   "cell_type": "code",
   "execution_count": 7,
   "metadata": {},
   "outputs": [
    {
     "name": "stdout",
     "output_type": "stream",
     "text": [
      "HincII [GTYRAC]\n"
     ]
    }
   ],
   "source": [
    "class RestrictionEnzyme():\n",
    "    def __init__(self, name, recognitionSeq):\n",
    "        self.name = name\n",
    "        self.recognitionSeq = recognitionSeq.upper()\n",
    "    def __str__(self):\n",
    "        return '{} [{}]'.format(self.name, self.recognitionSeq)\n",
    "\n",
    "enz = RestrictionEnzyme('HincII', 'GTYRAC')\n",
    "print(enz)\n"
   ]
  },
  {
   "cell_type": "markdown",
   "metadata": {},
   "source": [
    "### Assignment 8: Refactor\n",
    "Modify this script to make use of objects of a class, RestrictionEnzyme, that models the tuples in the list. Implement and use the `__str__()` method as well."
   ]
  },
  {
   "cell_type": "code",
   "execution_count": 12,
   "metadata": {},
   "outputs": [
    {
     "name": "stdout",
     "output_type": "stream",
     "text": [
      "HincII: position=GT[CT][AG]AC, sequence=GTYRAC: position=3, sequence=GTCGAC\n",
      "HincII: position=GT[CT][AG]AC, sequence=GTYRAC: position=16, sequence=GTTGAC\n",
      "HpyCH4III: position=AC[ACGT]GT, sequence=ACNGT: position=0, sequence=ACAGT\n",
      "HpyCH4III: position=AC[ACGT]GT, sequence=ACNGT: position=30, sequence=ACGGT\n",
      "AluI: position=AGCT, sequence=AGCT: position=26, sequence=AGCT\n",
      "AluI: position=AGCT, sequence=AGCT: position=38, sequence=AGCT\n"
     ]
    }
   ],
   "source": [
    "import re\n",
    "class RestrictionEnzyme():\n",
    "    def __init__(self, name, pattern, recognitionSeq):\n",
    "        self.name = name\n",
    "        self.pattern= pattern\n",
    "        self.recognitionSeq = recognitionSeq\n",
    "        \n",
    "    def __str__(self):\n",
    "        return f'{self.name}: position={self.pattern}, sequence={self.recognitionSeq}' #'{} [{}]'.format(self.name, self.recognitionSeq)\n",
    "\n",
    "seq = 'ACAGTCGACTGATCGGGTTGACCCATAGCTACGGTGAAAGCTT'\n",
    "resEnz=[(RestrictionEnzyme('HincII', 'GT[CT][AG]AC', 'GTYRAC')),\n",
    "        (RestrictionEnzyme('HpyCH4III', 'AC[ACGT]GT', 'ACNGT')),\n",
    "        (RestrictionEnzyme('AluI', 'AGCT', 'AGCT'))]\n",
    "\n",
    "for enz in resEnz:\n",
    "    p = re.compile(enz.pattern)\n",
    "    for m in p.finditer(seq):\n",
    "        print (RestrictionEnzyme(enz, m.start(), m.group()))\n",
    "        print( '{}: position={}, sequence={}'.format(enz, m.start(), m.group()))"
   ]
  },
  {
   "cell_type": "code",
   "execution_count": null,
   "metadata": {},
   "outputs": [],
   "source": []
  }
 ],
 "metadata": {
  "kernelspec": {
   "display_name": "Python 3",
   "language": "python",
   "name": "python3"
  },
  "language_info": {
   "codemirror_mode": {
    "name": "ipython",
    "version": 3
   },
   "file_extension": ".py",
   "mimetype": "text/x-python",
   "name": "python",
   "nbconvert_exporter": "python",
   "pygments_lexer": "ipython3",
   "version": "3.8.7"
  }
 },
 "nbformat": 4,
 "nbformat_minor": 2
}
