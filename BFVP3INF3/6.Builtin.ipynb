{
 "cells": [
  {
   "cell_type": "markdown",
   "metadata": {},
   "source": [
    "# Python Builtin functies\n",
    "\n",
    "Builtins zijn krachtige kant-en-klare Python-functies. Het voordeel van deze functies is dat je de implementatiedetails niet hoeft te kennen: weten hoe je ze aanroept is genoeg. Allereerst zullen we enkele van de meest interessante builtin functies bekijken. Een mooi overzicht is te vinden op https://docs.python.org/3/library/functions.html\n",
    "\n",
    "Een heel aantal van die builtin functies kennen we al, zoals [`set()`](https://docs.python.org/3/library/functions.html#func-set) en [`enumerate()`](https://docs.python.org/3/library/functions.html#enumerate). Maar in dit overzicht vind je ook een paar nieuwe functies zoals `zip()`, `map()`, `sorted()`.\n"
   ]
  },
  {
   "cell_type": "markdown",
   "metadata": {},
   "source": [
    "In dit notebook kijken we naar een aantal handige builtin functies die je kunt gebruiken in combinatie met iterable objects. Dat zijn\n",
    "\n",
    "1. hogere orde functies: `map()`, `filter()` and `reduce()`\n",
    "2. de `zip()` functie\n",
    "3. sorteer functie `sorted()` in vergelijking met `sort()`\n",
    "\n",
    "Voordat we hier naar kijken herhalen we eerst de lambda functies omdat deze veel in combinatie met iterable bewerkingen worden gebruikt. \n",
    "\n",
    "Als je dit notebook hebt doorlopen kun je de weekopdracht_6.py maken. "
   ]
  },
  {
   "cell_type": "markdown",
   "metadata": {},
   "source": [
    "# I. lambda functies"
   ]
  },
  {
   "cell_type": "markdown",
   "metadata": {},
   "source": [
    "In de programmeertaal Python is de anonieme functie een functie die ook bekend staat als een lambda-functie. Lamda-functies zijn 1-regel functies zonder naam en zonder keyword `def`. Ze heten om die reden *anonieme functies* (geen naam) en worden ook wel *lambda-functie* genoemd. de syntax is als volgt:\n",
    "\n",
    "`lambda arguments : expression`\n",
    "\n",
    "Een voorbeeld is hieronder. Het argument is `x`, de expressie is `x*x`\n"
   ]
  },
  {
   "cell_type": "code",
   "execution_count": 1,
   "metadata": {},
   "outputs": [
    {
     "data": {
      "text/plain": [
       "<function __main__.<lambda>(x)>"
      ]
     },
     "execution_count": 1,
     "metadata": {},
     "output_type": "execute_result"
    }
   ],
   "source": [
    "lambda x: x*x"
   ]
  },
  {
   "cell_type": "markdown",
   "metadata": {},
   "source": [
    "Door de lambda functie in een variabele te stoppen kan ik het aanroepen. "
   ]
  },
  {
   "cell_type": "code",
   "execution_count": 2,
   "metadata": {},
   "outputs": [
    {
     "name": "stdout",
     "output_type": "stream",
     "text": [
      "16\n"
     ]
    }
   ],
   "source": [
    "square = lambda x: x*x\n",
    "print(square(4))"
   ]
  },
  {
   "cell_type": "markdown",
   "metadata": {},
   "source": [
    "Dit doet dus exact het zelfde als de niet-anonomie functie met naam `square` en keyword `def`:"
   ]
  },
  {
   "cell_type": "code",
   "execution_count": 3,
   "metadata": {},
   "outputs": [
    {
     "name": "stdout",
     "output_type": "stream",
     "text": [
      "16\n"
     ]
    }
   ],
   "source": [
    "def square(x):\n",
    "    return x*x\n",
    "print(square(4))"
   ]
  },
  {
   "cell_type": "markdown",
   "metadata": {},
   "source": [
    "Net zoals gewone functies kunnen lambda functies ook meerdere argumenten als input hebben. In bovenstaand voorbeeld gebruikt de lambda-funcite het argument `x` als input argument en retourneert het de uitkomst van de expressie `x*x`. In het geval van meerdere input argumenten ziet het er zo uit:"
   ]
  },
  {
   "cell_type": "code",
   "execution_count": 4,
   "metadata": {},
   "outputs": [
    {
     "name": "stdout",
     "output_type": "stream",
     "text": [
      "12\n"
     ]
    }
   ],
   "source": [
    "ml = lambda x,y: x*y\n",
    "print(ml(3,4))"
   ]
  },
  {
   "cell_type": "markdown",
   "metadata": {},
   "source": [
    "Hierbij zijn `x` en `y` de input argumenten (deze staan vóór de `:`) en is `x*y` de expressie (deze staat ná de `:`)"
   ]
  },
  {
   "cell_type": "markdown",
   "metadata": {},
   "source": [
    "De expressie kan alles bevatten wat we normaal ook met python code kunnen doen"
   ]
  },
  {
   "cell_type": "code",
   "execution_count": 5,
   "metadata": {},
   "outputs": [
    {
     "name": "stdout",
     "output_type": "stream",
     "text": [
      "47\n",
      "47\n"
     ]
    }
   ],
   "source": [
    "f = lambda a,b: a if (a > b) else b\n",
    "print(f(47,11))\n",
    "print(f(11,47))"
   ]
  },
  {
   "cell_type": "markdown",
   "metadata": {},
   "source": [
    "Waarom is dit handig? Ik zou toch gewoon de zelfgedefinieerde functie kunnen gebruiken? Dat kan inderdaad. Maar voor kleine bewerkingen is het vaak handig om een anonieme lambda functie te gebruiken. Vooral als ik een reperterende bewerking wil gebruiken voor een iterable object. Of wanneer ik een reperterende functie wil gebruiken om een listcomprehension van te maken. We zagen daar al eerder een voorbeeld van in https://bioinf.nl/~fennaf/informatica2/comprehension.html. Lambda functies worden ook heel vaak gebruikt in combinatie met hogere orde functies `map()`, `filter()` en `reduce()`."
   ]
  },
  {
   "cell_type": "markdown",
   "metadata": {},
   "source": [
    "# II. Hogere orde functies: `map()`, `filter()` and `reduce()`\n",
    "\n",
    "De functies `map()`, `filter()` en `reduce()` zijn builtin (ingebouwde) functies van Python. Het zijn functies van een soort hogere orde. Deze functies nemen een andere functie als parameter samen met een itterable object (een sequentie, een list, een dict of iets dergelijk) en retourneert een uitvoer na het toepassen van de functie op elke item uit het iterabele object. Deze functies maken het [functionele programmeeraspect](https://en.wikipedia.org/wiki/Functional_programming) van Python mogelijk. De syntax is als volgt:\n",
    "\n",
    "`map(functie, iterable_object)`\n",
    "\n",
    "De functie-parameter is een functie die een expressie (bewerking) definieert die wordt toegepast op elk item uit het iterable_object. Functies kunnen weer builtin functies zijn, zelf gedefinieerde functies of lambda functies. Hieronder zie je twee voorbeelden:"
   ]
  },
  {
   "cell_type": "markdown",
   "metadata": {},
   "source": [
    "## II-I voorbeelden van `map()`"
   ]
  },
  {
   "cell_type": "code",
   "execution_count": 6,
   "metadata": {},
   "outputs": [
    {
     "name": "stdout",
     "output_type": "stream",
     "text": [
      "<map object at 0x104275970>\n",
      "(1, 4, 9, 16)\n"
     ]
    }
   ],
   "source": [
    "def newfunc(a):\n",
    "    return a*a\n",
    "x = map(newfunc, (1,2,3,4))  #x is the map object\n",
    "print(x)\n",
    "print(tuple(x))"
   ]
  },
  {
   "cell_type": "code",
   "execution_count": 7,
   "metadata": {},
   "outputs": [
    {
     "name": "stdout",
     "output_type": "stream",
     "text": [
      "(8, 10, 25, 100, 57, 65, 80, 26, 76, 64)\n"
     ]
    }
   ],
   "source": [
    "tup= (5, 7, 22, 97, 54, 62, 77, 23, 73, 61)\n",
    "newtuple = tuple(map(lambda x: x+3 , tup)) \n",
    "print(newtuple)"
   ]
  },
  {
   "cell_type": "code",
   "execution_count": 1,
   "metadata": {},
   "outputs": [
    {
     "data": {
      "text/plain": [
       "'AGGTTTCCA'"
      ]
     },
     "execution_count": 1,
     "metadata": {},
     "output_type": "execute_result"
    }
   ],
   "source": [
    "def complement_map(seq):\n",
    "    complements = {'A': 'T', 'C': 'G', 'G': 'C', 'T': 'A'}\n",
    "    return ''.join(list(map(lambda x: complements[x], seq))) \n",
    "complement_map('TCCAAAGGT')"
   ]
  },
  {
   "cell_type": "markdown",
   "metadata": {},
   "source": [
    "## II-II opdracht `map()`\n",
    "\n",
    "beschrijf per voorbeeld\n",
    "\n",
    "1. wat is het functie argument van de map-functie? Is het een gewone functie of een anonieme functie?\n",
    "2. ls het functie argument een anonieme functie betreft, wat zijn dan de input variabele van die anonieme functie? \n",
    "3. als het functie argument een anonieme functie betreft, wat wordt dan gereturned uit die anonieme functie?\n",
    "4. wat is het iterable object argument van de map-functie?"
   ]
  },
  {
   "cell_type": "markdown",
   "metadata": {},
   "source": [
    "## II-III voorbeelden van `filter()`"
   ]
  },
  {
   "cell_type": "markdown",
   "metadata": {},
   "source": [
    "De functie `filter()` wordt gebruikt om een uitvoerlijst te maken die bestaat uit waarden waarvoor de functie true retourneert. net zoals de `map()` functie gebruikt de `filter()` functie ook als argumenten een functie met een bewerkingsexpressie en een iterable object. De syntax ervan is als volgt:\n",
    "\n",
    "    filter(functie, iterable_object)\n",
    "    "
   ]
  },
  {
   "cell_type": "code",
   "execution_count": 9,
   "metadata": {},
   "outputs": [
    {
     "name": "stdout",
     "output_type": "stream",
     "text": [
      "<filter object at 0x1042754f0>\n",
      "(3, 4)\n"
     ]
    }
   ],
   "source": [
    "def func(x):\n",
    "    if x>=3:\n",
    "        return x\n",
    "y = filter(func, (1,2,3,4))  \n",
    "print(y)\n",
    "print(tuple(y))"
   ]
  },
  {
   "cell_type": "markdown",
   "metadata": {},
   "source": [
    "Dat kan natuurlijk ook met een lambdafunctie"
   ]
  },
  {
   "cell_type": "code",
   "execution_count": 10,
   "metadata": {},
   "outputs": [
    {
     "name": "stdout",
     "output_type": "stream",
     "text": [
      "(3, 4)\n"
     ]
    }
   ],
   "source": [
    "y = filter(lambda x: (x>=3), (1,2,3,4))\n",
    "print(tuple(y))"
   ]
  },
  {
   "cell_type": "markdown",
   "metadata": {},
   "source": [
    "## II-IV Hogere orde functies gebruiken in samenhang: `map(func, filter(func, iter))`\n",
    "Wanneer je dit doet, worden eerst de binnenste functies opgelost en dan de buitenste functies. De output van de binnenste functie is dan de input van de buitenste functie\n",
    "\n",
    "Laten we eerst proberen de functie `filter()` als parameter door te geven aan de functie `map()`.\n",
    "\n",
    "De onderstaande code controleert eerst of de voorwaarde (x> = 3) True is voor de iterables. Vervolgens wordt die uitvoer `(3, 4)` als iterable object gebruikt als parameter voor de functie `map()`. Omdat die de lambdafunctie `x:x+x` gebruikt wordt invoer `3 -> 6` en `4 -> 8`, dus het uiteindelijke resultaat is `(6,8)`."
   ]
  },
  {
   "cell_type": "code",
   "execution_count": 1,
   "metadata": {},
   "outputs": [
    {
     "name": "stdout",
     "output_type": "stream",
     "text": [
      "(6, 8)\n"
     ]
    }
   ],
   "source": [
    "# map(functie, iterable_object)\n",
    "# functie = lambda x:x+x\n",
    "# iterable_object = de uitkomst van expressie filter(lambda x: (x>=3), (1,2,3,4))\n",
    "c = map(lambda x:x+x, filter(lambda x: (x>=3), (1,2,3,4)))\n",
    "print(tuple(c))"
   ]
  },
  {
   "cell_type": "markdown",
   "metadata": {},
   "source": [
    "## II-V Opdracht `reduce()`\n",
    "\n",
    "1. Beschrijf de werking van de hogere orde functie `reduce()`\n",
    "2. Maak een voorbeeld van code om aan te tonen hoe reduce() werkt\n",
    "3. Maak een voorbeeld van code waar je in samenhang met filter een reduce() functie gebruikt volgens het principe\n",
    "\n",
    "        reduce(functie, filter(functie, iterable))\n",
    "        \n",
    "4. Lees https://www.lammertbies.nl/comm/info/nl-crc-calculation. Zou je hiervoor de reduce() functie kunnen gebruiken?"
   ]
  },
  {
   "cell_type": "markdown",
   "metadata": {},
   "source": [
    "## III De `zip()` functie \n",
    "De functie `zip()` retourneert een zip-object, een iterator van tuples waarbij het eerste item in een iterator wordt gekoppeld aan het eerste item van een tweede operator, en vervolgens het tweede item in elke iterator aan elkaar wordt gekoppeld, vervolgens het derde en zo verder. \n",
    "Als de iterators verschillende lengtes hebben, beslist de iterator met de minste items de lengte van de nieuwe iterator. De syntax is als volgt:\n",
    "\n",
    "    zip(iterator1, iterator2, iterator3 ...)\n",
    "  "
   ]
  },
  {
   "cell_type": "code",
   "execution_count": 12,
   "metadata": {
    "scrolled": true
   },
   "outputs": [
    {
     "name": "stdout",
     "output_type": "stream",
     "text": [
      "{'a': 'Ala', 'c': 'Cys', 'd': 'Asp', 'e': 'Glu', 'f': 'Phe'}\n"
     ]
    }
   ],
   "source": [
    "oneLetters = ['a','c','d','e','f']\n",
    "threeLetters = ['Ala','Cys','Asp','Glu','Phe']\n",
    "combined = zip(oneLetters, threeLetters)\n",
    "print(dict(combined))"
   ]
  },
  {
   "cell_type": "markdown",
   "metadata": {},
   "source": [
    "## III.I Opdracht `zip()`"
   ]
  },
  {
   "cell_type": "code",
   "execution_count": 13,
   "metadata": {},
   "outputs": [
    {
     "name": "stdout",
     "output_type": "stream",
     "text": [
      "vervang dit door code\n"
     ]
    }
   ],
   "source": [
    "# maak van \n",
    "names = ['NOMI', 'PARN', 'PLPI', 'FEFE']\n",
    "emails = ['nomi@bioinf.nl', 'parn@bioinf.nl', 'plpi@bioinf.nl', 'fefe@bioinf.nl']\n",
    "# de volgende output met zip\n",
    "[ ('NOMI', 'nomi@bioinf.nl'),\n",
    "  ('PARN', 'parn@bioinf.nl'),\n",
    "  ('PLPI', 'plpi@bioinf.nl'),\n",
    "  ('FEFE', 'fefe@bioinf.nl') ]\n",
    "print(\"vervang dit door code\")"
   ]
  },
  {
   "cell_type": "markdown",
   "metadata": {},
   "source": [
    "# IV `Sorted()` en `sort()`"
   ]
  },
  {
   "cell_type": "markdown",
   "metadata": {},
   "source": [
    "## IV.I `sorted`\n",
    "Een sequence sorteren is heel gemakkelijk in Python met behulp van de ingebouwde methode `sorted()`. \n",
    "Deze functie sorteert elke sequence en retourneert altijd een lijst met de elementen op een gesorteerde manier, zonder de oorspronkelijke sequence te wijzigen. Syntax: \n",
    "\n",
    "`sorted(iterable_object, key, reverse)`\n",
    "     \n",
    "waarbij `key` en `reverse` optioneel zijn. Een `key` geeft aan welke sorteer-basis gekozen moet worden, `reverse` geeft aan of aflopend gesorteerd moet worden (standaard oplopend)."
   ]
  },
  {
   "cell_type": "code",
   "execution_count": 14,
   "metadata": {},
   "outputs": [
    {
     "name": "stdout",
     "output_type": "stream",
     "text": [
      "Sorted List returned :\n",
      "[1, 2, 3, 4, 6, 7, 8]\n",
      "\n",
      "Reverse sort :\n",
      "[8, 7, 6, 4, 3, 2, 1]\n",
      "\n",
      "Original list not modified :\n",
      "[2, 8, 1, 4, 6, 3, 7]\n"
     ]
    }
   ],
   "source": [
    "x = [2, 8, 1, 4, 6, 3, 7] \n",
    "  \n",
    "print(\"Sorted List returned :\")\n",
    "print(sorted(x))\n",
    "  \n",
    "print(\"\\nReverse sort :\")\n",
    "print(sorted(x, reverse = True))\n",
    "  \n",
    "print(\"\\nOriginal list not modified :\") \n",
    "print(x) "
   ]
  },
  {
   "cell_type": "code",
   "execution_count": 15,
   "metadata": {},
   "outputs": [
    {
     "name": "stdout",
     "output_type": "stream",
     "text": [
      "Normal sort : ['aaa', 'b', 'cccc', 'dd']\n",
      "Sort with len : ['b', 'dd', 'aaa', 'cccc']\n"
     ]
    }
   ],
   "source": [
    "L = [\"cccc\", \"b\", \"dd\", \"aaa\"] \n",
    "  \n",
    "print(\"Normal sort :\", sorted(L)) \n",
    "print(\"Sort with len :\", sorted(L, key = len))"
   ]
  },
  {
   "cell_type": "markdown",
   "metadata": {},
   "source": [
    "In bovenstaand geval gebruik ik als key de len functie, maar dit kan ook een eigen gedefinieerde functie zijn. Onderstaande functie sorteert de aminozuur op gewicht"
   ]
  },
  {
   "cell_type": "code",
   "execution_count": 16,
   "metadata": {},
   "outputs": [
    {
     "name": "stdout",
     "output_type": "stream",
     "text": [
      "['Gly', 'Ala', 'pro', 'glu', 'His', 'his', 'tyr']\n"
     ]
    }
   ],
   "source": [
    "aaWeights = {'gly':75, 'ala':89, 'glu':147, 'his':155, 'pro':115, 'tyr':181}\n",
    "def aaSorter(aa):\n",
    "      return aaWeights[aa.lower()]\n",
    "l = ['Gly','Ala','pro','His','his','glu','tyr']\n",
    "print(sorted(l, key=aaSorter))"
   ]
  },
  {
   "cell_type": "markdown",
   "metadata": {},
   "source": [
    "## IV.II `sort()`\n",
    "De `sort()` functie sorteert een lijst, maar verandert deze lijst dan ook door de gesorteerde lijst. De functie `sorted()` retourneert een lijst en deze moet je toewijzen aan een nieuwe variabele wil je die gebruiken als variabele. Het verschil wordt hieronder gedemonstreert:\n"
   ]
  },
  {
   "cell_type": "code",
   "execution_count": 17,
   "metadata": {},
   "outputs": [
    {
     "name": "stdout",
     "output_type": "stream",
     "text": [
      "['squash', 'pea', 'carrot', 'potato']\n",
      "['carrot', 'pea', 'potato', 'squash']\n",
      "['squash', 'pea', 'carrot', 'potato']\n",
      "['carrot', 'pea', 'potato', 'squash']\n"
     ]
    }
   ],
   "source": [
    "vegetables = ['squash', 'pea', 'carrot', 'potato']\n",
    "print(vegetables)\n",
    "new_list = sorted(vegetables)\n",
    "print(new_list)\n",
    "print(vegetables)\n",
    "vegetables.sort()\n",
    "print(vegetables)"
   ]
  },
  {
   "cell_type": "markdown",
   "metadata": {},
   "source": [
    "## IV.III Opdracht sorteren\n",
    "\n",
    "Gebruik de gegevens van week 4\n",
    "Maak een barplot van 5 landen aantal 'confirmed' op volgorde van barhoogte"
   ]
  }
 ],
 "metadata": {
  "kernelspec": {
   "display_name": "Python 3",
   "language": "python",
   "name": "python3"
  },
  "language_info": {
   "codemirror_mode": {
    "name": "ipython",
    "version": 3
   },
   "file_extension": ".py",
   "mimetype": "text/x-python",
   "name": "python",
   "nbconvert_exporter": "python",
   "pygments_lexer": "ipython3",
   "version": "3.8.7"
  }
 },
 "nbformat": 4,
 "nbformat_minor": 4
}
