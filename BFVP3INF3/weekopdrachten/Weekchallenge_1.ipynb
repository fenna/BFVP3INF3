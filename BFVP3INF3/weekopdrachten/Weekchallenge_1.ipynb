{
 "cells": [
  {
   "cell_type": "markdown",
   "metadata": {
    "collapsed": true
   },
   "source": [
    "## Week Challenge 1\n",
    "\n",
    "In deze challenge wordt je gevraagd om een script te analyseren en aan te vullen. Het script kun je vinden in de voorbeeldscript folder en heet <a href='https://notebooks.azure.com/f-feenstra/projects/bfvp3inf3/html/Voorbeeldscripts/bridge.py'>bridge.py</a>"
   ]
  },
  {
   "cell_type": "markdown",
   "metadata": {},
   "source": [
    "## Class diagram\n",
    "\n",
    "Maak een class diagram van de classes van het script. Dit kun je op de computer doen met een tekenprogramma maar dit kun je ook doen op papier. Als je niet weet hoe te beginnen begin dan met per klasse een blok te tekenen met daarin de attributen en de methods en probeer daarna deze te verbinden met lijntjes. Zoek op internet naar de uitleg van class diagrams. Een aardige referentie is van de <a href = \"https://www.cs.drexel.edu/~spiros/teaching/CS575/slides/uml.pdf\"> drexel university</a> "
   ]
  },
  {
   "cell_type": "markdown",
   "metadata": {},
   "source": [
    "## Beantwoord de vragen\n",
    "\n",
    "1. Hoeveel classes staan er in dit script\n",
    "2. Welke objecten worden er allemaal aangemaakt\n",
    "3. Hoeveel 'implementaties' zijn er van de interface\n",
    "4. Bedenk een casus dat je dit principe van hergebruik door verschillende implementaties ook zou kunnen toepassen\n",
    "5. Waarom wordt de parameter path in de method show_content meegegeven en niet bij de constructor?\n",
    "6. Waarom hebben sommige classes geen constructor?\n"
   ]
  },
  {
   "cell_type": "markdown",
   "metadata": {},
   "source": [
    "## Opdracht\n",
    "\n",
    "Voeg een implementatie toe waarbij een CSV file wordt uitgelezen en geprint"
   ]
  }
 ],
 "metadata": {
  "kernelspec": {
   "display_name": "Python 3",
   "language": "python",
   "name": "python3"
  },
  "language_info": {
   "codemirror_mode": {
    "name": "ipython",
    "version": 3
   },
   "file_extension": ".py",
   "mimetype": "text/x-python",
   "name": "python",
   "nbconvert_exporter": "python",
   "pygments_lexer": "ipython3",
   "version": "3.8.7"
  }
 },
 "nbformat": 4,
 "nbformat_minor": 2
}
