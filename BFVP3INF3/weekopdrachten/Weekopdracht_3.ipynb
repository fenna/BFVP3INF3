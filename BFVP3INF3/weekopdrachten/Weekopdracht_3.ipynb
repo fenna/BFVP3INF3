{
 "cells": [
  {
   "cell_type": "markdown",
   "metadata": {},
   "source": [
    "# Week 3 \n",
    "This week we write a more advanced class including special methods "
   ]
  },
  {
   "cell_type": "markdown",
   "metadata": {},
   "source": [
    "## Creating a class\n",
    "Create a class `AminoAcidSequence` with the following functionality\n",
    "\n",
    "1. A developer readable object description\n",
    "2. An user (human readable) object description\n",
    "3. Implementation  of builtin `len` that returns the length of the amino-acid sequence\n",
    "4. A check if the sequence only contains valid amino-acids\n",
    "5. Make your aminoacid object iterable\n",
    "6. Implementation of builtin `next` so that we can can keep iterating over the sequence \n",
    "7. Implementation of builtin `add` that allow us to add other sequence to the amino-acid sequence \n",
    "8. When you call your object as a function it returns the composition of the sequence"
   ]
  },
  {
   "cell_type": "code",
   "execution_count": 30,
   "metadata": {},
   "outputs": [
    {
     "name": "stdout",
     "output_type": "stream",
     "text": [
      "6\n",
      "Aminio Acid Sequence: ARCSTHHTSRA\n",
      "ARCSTHHTSRA\n"
     ]
    }
   ],
   "source": [
    "class AminoAcidSequence:\n",
    "    def __init__(self, seq):\n",
    "        valid = \"ARNDCQEGHILKMFPSTWYV\"\n",
    "        for v in seq:\n",
    "            if not v in valid:\n",
    "                raise ValueError(f'{v} is not valid')\n",
    "        \n",
    "        self.sequence = seq\n",
    "        self.pointer = 0\n",
    "        \n",
    "    def __iter__(self):\n",
    "        for c in self.sequence:\n",
    "            yield c\n",
    "            \n",
    "    def __next__(self):\n",
    "        if (self.pointer == len(self.sequence)):\n",
    "            self.pointer = 0\n",
    "            \n",
    "        rv = self.sequence[self.pointer]\n",
    "        self.pointer += 1\n",
    "        return rv\n",
    "    \n",
    "    def __add__(self, other):\n",
    "        self.sequence += other \n",
    "        return self\n",
    "    \n",
    "    def __call__(self):\n",
    "        return self.sequence\n",
    "\n",
    "    \n",
    "    def __str__(self):\n",
    "        return f'Aminio Acid Sequence: {self.sequence}'\n",
    "    \n",
    "    def __repr__(self):\n",
    "        return f'<<Class AminoAcidSequence>> with sequence {self.sequence}'\n",
    "    \n",
    "    def __len__(self):\n",
    "        return len(self.sequence)\n",
    "    \n",
    "    \n",
    "f = AminoAcidSequence('ARCSTH')\n",
    "print (len(f))\n",
    "\n",
    "f += 'HTSRA'\n",
    "\n",
    "print (f)\n",
    "\n",
    "print ( f() )\n",
    "    \n"
   ]
  },
  {
   "cell_type": "markdown",
   "metadata": {},
   "source": [
    "## Writing a test script to test the functionalities\n",
    "Now write a test script to test the functionalities."
   ]
  },
  {
   "cell_type": "markdown",
   "metadata": {},
   "source": [
    "Submit your `aminoacidsequence.py` containing the class and the test script `test_aminoacidsequence.py` on Blackboard."
   ]
  }
 ],
 "metadata": {
  "kernelspec": {
   "display_name": "Python 3",
   "language": "python",
   "name": "python3"
  },
  "language_info": {
   "codemirror_mode": {
    "name": "ipython",
    "version": 3
   },
   "file_extension": ".py",
   "mimetype": "text/x-python",
   "name": "python",
   "nbconvert_exporter": "python",
   "pygments_lexer": "ipython3",
   "version": "3.8.7"
  }
 },
 "nbformat": 4,
 "nbformat_minor": 1
}
