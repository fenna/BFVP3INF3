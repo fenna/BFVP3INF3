{
 "cells": [
  {
   "cell_type": "markdown",
   "metadata": {},
   "source": [
    "# Week 1 opdracht\n",
    "\n",
    "Middels deelopdrachten maak je twee classes: de classe Protein en de classe RestrictionEnzyme. Lever de beide classes in via blackboard"
   ]
  },
  {
   "cell_type": "markdown",
   "metadata": {},
   "source": [
    "### Assignment 1: Create a class that models/represents proteins:\n",
    "Instantiate the class and give it the attributes name and amino acid sequence. Then print the attributes to screen."
   ]
  },
  {
   "cell_type": "code",
   "execution_count": 1,
   "metadata": {},
   "outputs": [
    {
     "name": "stdout",
     "output_type": "stream",
     "text": [
      "Protein: name Glucose-6-phospatase, sequence: MEEGMNVLHDFGIQSTHYLQVNYQAVVPLASVSVIPYCLAQVLGQPHKKSL\n"
     ]
    }
   ],
   "source": [
    "class Protein():\n",
    "    #do not modify this\n",
    "    pass\n",
    "\n",
    "prot = Protein()\n",
    "prot.name = 'Glucose-6-phospatase'\n",
    "prot.sequence = 'MEEGMNVLHDFGIQSTHYLQVNYQAVVPLASVSVIPYCLAQVLGQPHKKSL'\n",
    "#print('Protein: name {}, sequence: {}'.format(prot.name, prot.sequence))\n",
    "print(f'Protein: name {prot.name}, sequence: {prot.sequence}')\n"
   ]
  },
  {
   "cell_type": "markdown",
   "metadata": {},
   "source": [
    "### Assignment 2: Create a class that models/represents proteins:\n",
    "Now make the attributes name and amino acid sequence mandatory by specifying them in a **constructor**. Again, instantiate a Protein object and print the attributes to screen.\n"
   ]
  },
  {
   "cell_type": "code",
   "execution_count": 6,
   "metadata": {},
   "outputs": [
    {
     "name": "stdout",
     "output_type": "stream",
     "text": [
      "Protein: name Glucose-6-phospatase, sequence: MEEGMNVLHDFGIQSTHYLQVNYQAVVPLASVSVIPYCLAQVLGQPHKKSL\n"
     ]
    }
   ],
   "source": [
    "class Protein():\n",
    "    \n",
    "    def __init__(self, name, seq):\n",
    "        self.name = name\n",
    "        self.seq = seq\n",
    "        print(f'Protein: name {self.name}, sequence: {self.seq}')\n",
    "    \n",
    "\n",
    "prot = Protein('Glucose-6-phospatase', 'MEEGMNVLHDFGIQSTHYLQVNYQAVVPLASVSVIPYCLAQVLGQPHKKSL')\n",
    "#prot.name = 'Henk'\n",
    "#prot.sequence = 'MEEGMNVLHDFGIQSTHYLQVNYQAVVPLASVSVIPYCLAQVLGQPHKKSL'\n",
    "\n",
    "# put your code here to instantiate a Protein object and print the attributes to screen\n",
    "# expected outcome: Protein: name=Glucose-6-phospatase, sequence=MEEGMNVLHDFGIQSTHYLQVNYQAVVPLASVSVIPYCLAQVLGQPHKKSL"
   ]
  },
  {
   "cell_type": "markdown",
   "metadata": {},
   "source": [
    "### Assignment 3: Create a class that models/represents proteins:\n",
    "Next, change the constructor to make the name attribute optional - give it the default value “UNNAMED PROTEIN”. Demonstrate construction of a Protein object both with and without name."
   ]
  },
  {
   "cell_type": "code",
   "execution_count": 7,
   "metadata": {},
   "outputs": [
    {
     "name": "stdout",
     "output_type": "stream",
     "text": [
      "Protein: name Glucose-6-phospatase, sequence: MEEGMNVLHDFGIQSTHYLQVNYQAVVPLASVSVIPYCLAQVLGQPHKKSL\n",
      "Protein: name UNNAMED PROTEIN, sequence: MEEGMNVLHDFGIQSTHYLQVNYQAVVPLASVSVIPYCLAQVLGQPHKKSL\n"
     ]
    }
   ],
   "source": [
    "class Protein():\n",
    "    #modify this\n",
    "    def __init__(self, seq, name='UNNAMED PROTEIN'):\n",
    "        self.name = name\n",
    "        self.seq = seq\n",
    "        print(f'Protein: name {self.name}, sequence: {self.seq}')\n",
    "    \n",
    "\n",
    "prot1 = Protein('MEEGMNVLHDFGIQSTHYLQVNYQAVVPLASVSVIPYCLAQVLGQPHKKSL', 'Glucose-6-phospatase')\n",
    "prot2 = Protein('MEEGMNVLHDFGIQSTHYLQVNYQAVVPLASVSVIPYCLAQVLGQPHKKSL')\n",
    "\n",
    "# put your code here to instantiate a Protein object and print the attributes to screen"
   ]
  },
  {
   "cell_type": "markdown",
   "metadata": {},
   "source": [
    "### Assignment 4: Create a class that models/represents proteins:\n",
    "Now, create a method that will generate a human-readable string representation of a Protein object when passed to print(). Take care that sequences longer than 20 amino acids get truncated. Hint: use `__str__`\n",
    "\n"
   ]
  },
  {
   "cell_type": "code",
   "execution_count": 10,
   "metadata": {},
   "outputs": [
    {
     "name": "stdout",
     "output_type": "stream",
     "text": [
      "Protein: name Glucose-6-phospatase, sequence: MEEGMNVLHDFGIQSTHYLQVNYQAVVPLASVSVIPYCLAQVLGQPHKKSL\n",
      "Protein: name Henk, sequence: MEEGMNVLHDFGIQSTHYLQVNYQAVVPLASVSVIPYCLAQVLGQPHKKSL\n"
     ]
    }
   ],
   "source": [
    "class Protein():\n",
    "    #modify this\n",
    "    def __init__(self, seq, name='UNNAMED PROTEIN'):\n",
    "        self.name = name\n",
    "        self.seq = seq\n",
    "        \n",
    "    def __str__(self):\n",
    "        return f'Protein: name {self.name}, sequence: {self.seq}'\n",
    "\n",
    "\n",
    "prot1 = Protein('MEEGMNVLHDFGIQSTHYLQVNYQAVVPLASVSVIPYCLAQVLGQPHKKSL', 'Glucose-6-phospatase')\n",
    "prot2 = Protein('MEEGMNVLHDFGIQSTHYLQVNYQAVVPLASVSVIPYCLAQVLGQPHKKSL')\n",
    "\n",
    "prot2.name = 'Henk'\n",
    "\n",
    "print (prot1)\n",
    "print (prot2)\n",
    "\n",
    "# put your code here to instantiate a Protein object and print the a human-readable string representation to screen"
   ]
  },
  {
   "cell_type": "markdown",
   "metadata": {},
   "source": [
    "### Assignment 5: Create a class that models/represents proteins:\n",
    "Create a method that will generate a string representation of the protein in Fasta format. Look this format up on internet if you are not sure about it"
   ]
  },
  {
   "cell_type": "code",
   "execution_count": 14,
   "metadata": {},
   "outputs": [
    {
     "name": "stdout",
     "output_type": "stream",
     "text": [
      "Protein: name Glucose-6-phospatase, sequence: MEEGMNVLHDFGIQSTHYLQVNYQAVVPLASVSVIPYCLAQVLGQPHKKSL\n",
      ">Glucose-6-phospatase\n",
      "MEEGMNVLHDFGIQSTHYLQVNYQAVVPLASVSVIPYCLAQVLGQPHKKSL\n",
      "\n"
     ]
    }
   ],
   "source": [
    "class Protein():\n",
    "    #modify this\n",
    "    def __init__(self, seq, name='UNNAMED PROTEIN'):\n",
    "        self.name = name\n",
    "        self.seq = seq\n",
    "        \n",
    "    def __str__(self):\n",
    "        return f'Protein: name {self.name}, sequence: {self.seq}'\n",
    "    \n",
    "    def to_fasta(self):\n",
    "        return f'>{self.name}\\n{self.seq}\\n'\n",
    "    \n",
    "\n",
    "prot1 = Protein('MEEGMNVLHDFGIQSTHYLQVNYQAVVPLASVSVIPYCLAQVLGQPHKKSL', 'Glucose-6-phospatase')\n",
    "print (prot1)\n",
    "print (prot1.to_fasta())\n",
    "\n",
    "\n",
    "# initiate an object to test it"
   ]
  },
  {
   "cell_type": "markdown",
   "metadata": {},
   "source": [
    "### Assignment 6: Create a class that models/represents restriction enzymes, \n",
    "Create a constructor that takes two arguments, the name and the recognition sequence.\n"
   ]
  },
  {
   "cell_type": "code",
   "execution_count": 19,
   "metadata": {},
   "outputs": [],
   "source": [
    "class RestrictionEnzyme():\n",
    "    \n",
    "    def __init__(self, name, seq):\n",
    "        self.name = name\n",
    "        self.seq = seq\n"
   ]
  },
  {
   "cell_type": "markdown",
   "metadata": {},
   "source": [
    "### Assignment 7: Create a class that models/represents restriction enzymes\n",
    "Create a method that will generate a human-readable string representation of a RestrictionEnzyme object when passed to print(). (see assingment 4)"
   ]
  },
  {
   "cell_type": "code",
   "execution_count": 20,
   "metadata": {},
   "outputs": [],
   "source": [
    "class RestrictionEnzyme():\n",
    "    # put your constructor here\n",
    "    # put your print method here\n",
    "    def __init__(self, name, seq):\n",
    "        self.name = name\n",
    "        self.seq = seq\n",
    "        \n",
    "    def __str__(self):\n",
    "        return( '{} [{}]: position={}, sequence={}'.format(self.name, self.amino_acid, self.position, self.seq)) \n",
    "#        return (f'Protein: name {self.name}, sequence: {self.seq}')\n"
   ]
  },
  {
   "cell_type": "markdown",
   "metadata": {},
   "source": [
    "### Assignment 8: Refactor\n",
    "Modify this script to make use of objects of a class, RestrictionEnzyme, that models the tuples in the list. Implement and use the `__str__()` method as well."
   ]
  },
  {
   "cell_type": "code",
   "execution_count": 25,
   "metadata": {},
   "outputs": [
    {
     "name": "stdout",
     "output_type": "stream",
     "text": [
      "HincII [GTYRAC]: position=3, sequence=GTCGAC\n",
      "HincII [GTYRAC]: position=16, sequence=GTTGAC\n",
      "HpyCH4III [ACNGT]: position=0, sequence=ACAGT\n",
      "HpyCH4III [ACNGT]: position=30, sequence=ACGGT\n",
      "AluI [AGCT]: position=26, sequence=AGCT\n",
      "AluI [AGCT]: position=38, sequence=AGCT\n"
     ]
    }
   ],
   "source": [
    "# copy this code and modify the copied code\n",
    "import re\n",
    "seq = 'ACAGTCGACTGATCGGGTTGACCCATAGCTACGGTGAAAGCTT'\n",
    "resEnz=[\n",
    "  ('HincII', 'GT[CT][AG]AC', 'GTYRAC'),\n",
    "  ('HpyCH4III', 'AC[ACGT]GT', 'ACNGT'),\n",
    "  ('AluI', 'AGCT', 'AGCT')\n",
    "]\n",
    "\n",
    "result = []\n",
    "for entry in resEnz:\n",
    "    recSeq = entry[1]\n",
    "    p = re.compile(recSeq)\n",
    "    for m in p.finditer(seq):        \n",
    "        enz = RestrictionEnzyme(entry[0], m.group())\n",
    "        enz.amino_acid = entry[2]\n",
    "        enz.position = m.start()\n",
    "        result.append(enz)\n",
    "        \n",
    "assert (len(result) == 6)   \n",
    "\n",
    "for x in result:\n",
    "    print(x)\n",
    "        "
   ]
  },
  {
   "cell_type": "code",
   "execution_count": null,
   "metadata": {},
   "outputs": [],
   "source": []
  }
 ],
 "metadata": {
  "kernelspec": {
   "display_name": "Python 3",
   "language": "python",
   "name": "python3"
  },
  "language_info": {
   "codemirror_mode": {
    "name": "ipython",
    "version": 3
   },
   "file_extension": ".py",
   "mimetype": "text/x-python",
   "name": "python",
   "nbconvert_exporter": "python",
   "pygments_lexer": "ipython3",
   "version": "3.8.7"
  }
 },
 "nbformat": 4,
 "nbformat_minor": 2
}
