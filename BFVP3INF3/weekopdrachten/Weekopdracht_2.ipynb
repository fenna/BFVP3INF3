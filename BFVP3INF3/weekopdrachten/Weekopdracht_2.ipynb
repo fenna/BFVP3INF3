{
 "cells": [
  {
   "cell_type": "markdown",
   "metadata": {
    "collapsed": true
   },
   "source": [
    "# Week 2 \n",
    "\n",
    "In deze week kijken we naar de principes van over erven en overschrijven van code. Ook denken we na over efficiënte code."
   ]
  },
  {
   "cell_type": "markdown",
   "metadata": {},
   "source": [
    "## opdracht 1\n",
    "\n",
    "1. Creëer een basis class `Animal`. De `Animal` heeft de volgende eigenschappen: \n",
    "    - type voedsel wat het eet, \n",
    "    - heeft honger ja of nee en \n",
    "    - de locatie van zijn verblijf. \n",
    "    \n",
    "Verder kan de `Animal` lawaai maken, eten, slapen en 'roamen'. De `Animal` honger status is default ja (`True`). \n",
    "\n",
    "2. Maak ook een class diagram voor deze classe. \n",
    "3. Maak een test case voor deze classe\n"
   ]
  },
  {
   "cell_type": "code",
   "execution_count": null,
   "metadata": {},
   "outputs": [],
   "source": [
    "# YOUR CODE HERE"
   ]
  },
  {
   "cell_type": "markdown",
   "metadata": {},
   "source": [
    "## Opdracht 2\n",
    "\n",
    "1. Creëer een class `Hippo` van het type `Animal`. De `Hippo` kan geluid maken en eten. Schrijf hiervoor de code.\n",
    "2. maak een test case voor deze Hippo classe\n"
   ]
  },
  {
   "cell_type": "code",
   "execution_count": null,
   "metadata": {},
   "outputs": [],
   "source": [
    "# YOUR CODE HERE"
   ]
  },
  {
   "cell_type": "markdown",
   "metadata": {},
   "source": [
    "## Opdracht 3\n",
    "\n",
    "1. Creëer classes van het type `Animal` voor `Cat`, `Lion` en `Tiger`. Al deze dieren kunnen geluid maken, eten en roamen\n",
    "2. maak een test case voor de classes"
   ]
  },
  {
   "cell_type": "code",
   "execution_count": null,
   "metadata": {},
   "outputs": [],
   "source": [
    "# YOUR CODE HERE"
   ]
  },
  {
   "cell_type": "markdown",
   "metadata": {},
   "source": [
    "## Opdracht 4\n",
    "\n",
    "1. Creëer classes van het type `Animal` voor `Wolf` en `Dog`. Al deze dieren kunnen geluid maken, eten en roamen\n",
    "2. maak een test case voor de classes"
   ]
  },
  {
   "cell_type": "code",
   "execution_count": null,
   "metadata": {},
   "outputs": [],
   "source": []
  },
  {
   "cell_type": "markdown",
   "metadata": {},
   "source": [
    "## Opdracht 5\n",
    "\n",
    "1. Doe je dingen nu eigenlijk toch nog dubbel? Kun je nog iets abstraheren? \n",
    "2. Refactor je code zodat die je die abstracties realiseert.\n",
    "3. Maak een classe diagram van je uiteindelijke oplossing.\n"
   ]
  },
  {
   "cell_type": "code",
   "execution_count": null,
   "metadata": {},
   "outputs": [],
   "source": [
    "# YOUR CODE HERE"
   ]
  },
  {
   "cell_type": "markdown",
   "metadata": {},
   "source": [
    "## Uitdaging: Verander *Is a* in a *Has a* structuur. \n",
    "\n",
    "Deze uitdaging is voor als je het leuk vindt om je zelf uit te dagen. \n",
    "\n",
    "Bekijk de code uit de voorbeelscripts: [solid_ISP_good.py](https://blackboard.hanze.nl/bbcswebdav/xid-59324057_2\n",
    "\n",
    "1. Waar zie je de mogelijkheden van een implementatie van`Has A` in plaats van `Is A`?\n",
    "2. Wat valt je op aan de base classes?\n",
    "3. Waarom is deze code efficiënter dan code die alleen maar overerft?\n",
    "4. Refactor de code van `Animal` op zo'n manier dat je gebruik maakt van behavior classes en abstract classes\n"
   ]
  },
  {
   "cell_type": "markdown",
   "metadata": {},
   "source": [
    "Lever de code van de Animal classes in een script in op blackboard. Lever ook je classe diagram in. Check je code voordat je hem uploadt met \n",
    "\n",
    "1. black\n",
    "2. pylint\n",
    "\n",
    "Tip: met pyreverse kun je ook een classe diagram maken"
   ]
  },
  {
   "cell_type": "code",
   "execution_count": null,
   "metadata": {},
   "outputs": [],
   "source": []
  }
 ],
 "metadata": {
  "kernelspec": {
   "display_name": "Python 3",
   "language": "python",
   "name": "python3"
  },
  "language_info": {
   "codemirror_mode": {
    "name": "ipython",
    "version": 3
   },
   "file_extension": ".py",
   "mimetype": "text/x-python",
   "name": "python",
   "nbconvert_exporter": "python",
   "pygments_lexer": "ipython3",
   "version": "3.8.7"
  }
 },
 "nbformat": 4,
 "nbformat_minor": 2
}
