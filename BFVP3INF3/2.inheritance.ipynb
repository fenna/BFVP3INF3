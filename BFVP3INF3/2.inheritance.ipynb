{
 "cells": [
  {
   "cell_type": "markdown",
   "metadata": {},
   "source": [
    "# 2. Inheritance (overerving)\n",
    "\n",
    "Overerving is wanneer een klasse (`class`) code gebruikt die in een andere klasse is gedefinieerd. Als we denken aan overerving in termen van biologie, kunnen we denken aan een kind dat bepaalde eigenschappen van zijn ouder erft. We zeggen dan bijvoorbeeld `class Fenna(Ada):` Dat wil zeggen dat Fenna een kind is van ouder Ada en de de lengte of oogkleur van die ouder erft. Dat kan ook abstracter. Een kind `Fenna` kan ook overerven van een `base class` `Persoon` . Als een `Persoon` kan eten, lopen en slapen, dan kan `Fenna` ook automatisch eten, lopen en slapen.\n",
    "\n",
    "Klassen die `subclasse` worden genoemd, nemen methoden en variabelen over van bovenliggende classe of base classe (of 'superklasse').\n",
    "\n",
    "Omdat de subclass (*Child*) alles overneemt van de base class (*Parent*), kan de *Child class* de code van de *Parent class* hergebruiken. Dat betekent minder herhaling van code, en daarom ook minder kans op fouten: de code is beter onderhoudbaar.\n",
    "\n",
    "### extend\n",
    "\n",
    "In een subclass kunnen we methodes en eigenschappen toevoegen die specifiek zijn voor deze subclass.\n",
    "\n",
    "### override\n",
    "\n",
    "In een subclass kunnen we een methode overschrijven van de base class met een eigen implementatie specifiek voor die subclass. \n",
    "\n",
    "### super()\n",
    "\n",
    "Met de functie `super()` krijgt je toegang tot de bovenliggende class-methoden die in een usbclass zijn overschreven.\n",
    "Wanneer we de functie `super()` gebruiken, roepen we een bovenliggende methode op in een onderliggende methode om er gebruik van te maken. \n",
    "\n",
    "### multiple inheritance\n",
    "\n",
    "Een class kan ook van twee classes overerven. Het kan dan van beide classes methodes en eigenschappen gebruiken"
   ]
  },
  {
   "cell_type": "markdown",
   "metadata": {},
   "source": [
    "## Opdracht 1\n",
    "\n",
    "Bekijk de onderstaande code en beantwoord de volgende vragen\n",
    "\n",
    "1. Welke base classes zie je?\n",
    "2. Hoeveel sub classes zijn er die van een base class overerven?\n",
    "3. Waarom hebben sommige classes geen constructor?\n",
    "4. Hoeveel `super()` methodes kun je ontdekken en waar?\n",
    "5. Welke sub classes overschrijven iets van de base classe? En wat dan?\n",
    "6. Welke sub classes voegen iets toe aan de overgeërfde base class?\n",
    "7. Hoeveel eigenschappen heeft trout? En hoeveel methodes?\n",
    "\n",
    "## Opdracht 2\n",
    "\n",
    "Maak een class diagram van de classes van het script. Dit kun je op de computer doen met een tekenprogramma maar dit kun je ook doen op papier. Als je niet weet hoe te beginnen begin dan met per klasse een blok te tekenen met daarin de attributen en de methods en probeer daarna deze te verbinden met lijntjes. Zoek op internet naar de uitleg van class diagrams. Een aardige referentie is van de <a href = \"https://www.cs.drexel.edu/~spiros/teaching/CS575/slides/uml.pdf\">drexel university</a>"
   ]
  },
  {
   "cell_type": "code",
   "execution_count": 1,
   "metadata": {},
   "outputs": [],
   "source": [
    "class Fish:\n",
    "    def __init__(self, first_name, last_name=\"Fish\",\n",
    "                 skeleton=\"bone\", eyelids=False):\n",
    "        self.first_name = first_name\n",
    "        self.last_name = last_name\n",
    "        self.skeleton = skeleton\n",
    "        self.eyelids = eyelids\n",
    "\n",
    "    def swim(self):\n",
    "        print(\"The fish is swimming.\")\n",
    "\n",
    "    def swim_backwards(self):\n",
    "        print(\"The fish can swim backwards.\")\n",
    "\n",
    "\n",
    "\n",
    "class Clownfish(Fish):\n",
    "\n",
    "    def live_with_anemone(self):\n",
    "        print(\"The clownfish is coexisting with sea anemone.\")\n",
    "\n",
    "\n",
    "\n",
    "class Shark(Fish):\n",
    "    def __init__(self, first_name, last_name=\"Shark\",\n",
    "                 skeleton=\"cartilage\", eyelids=True):\n",
    "        self.first_name = first_name\n",
    "        self.last_name = last_name\n",
    "        self.skeleton = skeleton\n",
    "        self.eyelids = eyelids\n",
    "\n",
    "    def swim_backwards(self):\n",
    "        print(\"The shark cannot swim backwards, but can sink backwards.\")\n",
    "\n",
    "\n",
    "class Trout(Fish):\n",
    "    def __init__(self, water = \"freshwater\"):\n",
    "        self.water = water\n",
    "        super().__init__(self)\n",
    "\n",
    "\n",
    "class Coral:\n",
    "\n",
    "    def community(self):\n",
    "        print(\"Coral lives in a community.\")\n",
    "\n",
    "\n",
    "class Anemone:\n",
    "\n",
    "    def protect_clownfish(self):\n",
    "        print(\"The anemone is protecting the clownfish.\")\n",
    "\n",
    "\n",
    "class CoralReef(Coral, Anemone):\n",
    "    pass\n"
   ]
  },
  {
   "cell_type": "markdown",
   "metadata": {},
   "source": [
    "## Opdracht 2\n",
    "\n",
    "Maak een object aan aan en gebruik de eigenschappen en methodes van het object zodat de volgende output wordt gegenereerd. Maak gebruik van bovenstaande classes\n",
    "\n",
    "    Coral lives in a community.\n",
    "    The anemone is protecting the clownfish."
   ]
  },
  {
   "cell_type": "code",
   "execution_count": null,
   "metadata": {},
   "outputs": [],
   "source": [
    "# voer hier je code inf"
   ]
  },
  {
   "cell_type": "markdown",
   "metadata": {},
   "source": [
    "## Opdracht 4\n",
    "\n",
    "Maak een object aan en gebruik de eigenschappen en methodes van het object zodat de volgende output wordt gegenereerd: De eerste regel is de voor en achternaam. Maak gebruik van bovenstaande classes\n",
    "\n",
    "    Gumpy Fish\n",
    "    False\n",
    "    freshwater\n",
    "    The fish is swimming"
   ]
  },
  {
   "cell_type": "code",
   "execution_count": null,
   "metadata": {},
   "outputs": [],
   "source": [
    "# voer hier je code in"
   ]
  },
  {
   "cell_type": "markdown",
   "metadata": {},
   "source": [
    "## Opdracht 5\n",
    "\n",
    "Maak een object aan zodat de volgende output wordt gegenereerd: De eerste regel is de voor en achternaam. Maak gebruik van bovenstaande classes\n",
    "\n",
    "    Shark Sjaak\n",
    "    The fish is swimming.\n",
    "    The shark cannot swim backwards, but can sink backwards.\n"
   ]
  },
  {
   "cell_type": "code",
   "execution_count": null,
   "metadata": {},
   "outputs": [],
   "source": [
    "# voer hier je code in"
   ]
  },
  {
   "cell_type": "markdown",
   "metadata": {},
   "source": [
    "## Opdracht 6\n",
    "\n",
    "Kun je de code ook aanpassen dat de volgende code wordt geprint?\n",
    "\n",
    "    Shark Sjaak\n",
    "    Sjaak is swimming.\n",
    "    Sjaak cannot swim backwards, but can sink backwards."
   ]
  },
  {
   "cell_type": "code",
   "execution_count": 2,
   "metadata": {},
   "outputs": [],
   "source": [
    "# Verander iets aan bovenstaand script\n",
    "# voer hier je code in om de output te krijgen"
   ]
  },
  {
   "cell_type": "markdown",
   "metadata": {},
   "source": [
    "Bron: Lisa Tagliaferri"
   ]
  }
 ],
 "metadata": {
  "kernelspec": {
   "display_name": "Python 3",
   "language": "python",
   "name": "python3"
  },
  "language_info": {
   "codemirror_mode": {
    "name": "ipython",
    "version": 3
   },
   "file_extension": ".py",
   "mimetype": "text/x-python",
   "name": "python",
   "nbconvert_exporter": "python",
   "pygments_lexer": "ipython3",
   "version": "3.8.7"
  }
 },
 "nbformat": 4,
 "nbformat_minor": 4
}
