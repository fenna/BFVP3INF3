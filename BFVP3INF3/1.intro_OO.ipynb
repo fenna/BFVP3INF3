{
 "cells": [
  {
   "cell_type": "markdown",
   "metadata": {},
   "source": [
    "# 1. Introductie in Object Oriented Programming "
   ]
  },
  {
   "cell_type": "markdown",
   "metadata": {},
   "source": [
    "Software schrijf je niet voor jezelf maar voor een ander. Het moet dus leesbaar en onderhoudbaar zijn. "
   ]
  },
  {
   "cell_type": "markdown",
   "metadata": {},
   "source": [
    "### Waarom Object georiënteerd programmeren? \n",
    "\n",
    "We zien Object georiënteerd programmeren (*Object Oriented Programming*, OO) bij heel veel programeertalen en daar is een goede reden voor. \n",
    "\n",
    "Met OO kunnen we onze data en functies **logisch groeperen**, op zo’n manier dat we het makkelijk kunnen **gebruiken, hergebruiken en uitbreiden**. Dit is makkelijker te lezen en te **onderhouden**. OO maakt gebruik van principes zoals het verbergen van dingen die niet nodig zijn om te laten zien, zodat je de gebruiker van code niet vermoeit met zaken die niet nodig is voor het *gebruik* van de code. \n",
    "\n",
    "We maken **interfaces** voor het gebruik. (Ter vergelijking: voor het gebruik van een computer is een toetsenbord en scherm voldoende, je hoeft de computer niet open te schroeven. Of voor het gebruik van de auto hoef je niet te snappen hoe de bedrading in de motor werkt, een rem, gaspedaal, stuur en dashboard zijn voldoende). Het samenbundelen van code en data en vervolgens alleen laten zien wat je moet gebruiken (onder de ‘motorkap’ verstoppen) noemen we **encapsulation**. In OO werken we ook vaak met **abstractie**. We definiëren dan een stukje code (een class) met basis-attributen en -methoden en hergebruiken dat als template waarbij we dan alles gebruiken van de basiscode plus iets extra’s (wat dan maar nodig is voor die specifieke situatie). \n",
    "\n",
    "Met OO kun je dus makkelijk code hergebruiken en uitbreiden **zonder dat je code gaat herhalen**. \n"
   ]
  },
  {
   "cell_type": "markdown",
   "metadata": {},
   "source": [
    "### Class, attributes, methods en Object\n",
    "\n",
    "Een bij elkaar gegroepeerde logische eenheid van data en functies noemen we `Class`.\n",
    "\n",
    "Een class is een template / blauwdruk van een object. Als we het in OO over data en functies hebben noemen we dat in een class `attributes` (of variables) en `methods`.\n",
    "\n",
    "- data -> *attribute* (data in een class)\n",
    "- functie -> *method* (functie in een class)\n",
    "\n",
    "Een instantie van de class noemen we `object`"
   ]
  },
  {
   "cell_type": "code",
   "execution_count": 2,
   "metadata": {},
   "outputs": [
    {
     "name": "stdout",
     "output_type": "stream",
     "text": [
      "glycine\n",
      "AminoAcid[glycine weight=75.0]\n",
      "AminoAcid[cysteine weight=121.0]\n"
     ]
    }
   ],
   "source": [
    "#this is a class, the template code or blueprint code used when we create an object\n",
    "class AminoAcid:\n",
    "    #this is the constructor method (the initializer)\n",
    "    def __init__(self, name, weight): \n",
    "        self.name = name # .name is an attribute\n",
    "        self.weight = weight # .weight is an attribute\n",
    "\n",
    "    #this is a method using the instance of the class (self) with its attributes as a parameter\n",
    "    def getTextRepresentation(self):\n",
    "        return 'AminoAcid[{} weight={}]'.format(self.name, self.weight)\n",
    "    \n",
    "\n",
    "#now we are going to use the classes to create objects (instances of the classes)\n",
    "aa1 = AminoAcid('glycine', 75.0) ## aa1 is an object (an instance of the class AminoAcid)\n",
    "aa2 = AminoAcid('cysteine', 121.0) ## aa2 is an object (another instance of the class AminoAcid)\n",
    "print( aa1.name ) #print the instance attribute \n",
    "print( aa1.getTextRepresentation() ) # print the result of the instance method \n",
    "print( aa2.getTextRepresentation() ) # print the result of the instance method "
   ]
  },
  {
   "cell_type": "markdown",
   "metadata": {},
   "source": [
    "### Class attribute en Instance attribute\n",
    "\n",
    "NB: Een `instance attribute` is een Python-variabele die bij één en slechts één object hoort. Deze variabele is alleen toegankelijk binnen het bereik van dit object en wordt gedefinieerd binnen de constructor functie: `__init__(self,..)` van de Class.\n",
    "\n",
    "Een `class attribute` (ookwel `static variable`) is een Python-variabele die tot een class behoort in plaats van een bepaald object. Het wordt gedeeld tussen alle objecten van deze klasse en wordt buiten de constructor gedefinieerd\n"
   ]
  },
  {
   "cell_type": "code",
   "execution_count": null,
   "metadata": {},
   "outputs": [],
   "source": [
    "class ExampleClass:\n",
    "    \n",
    "    class_attr = 0\n",
    "    \n",
    "    def __init__(self, instance_attr):\n",
    "        self.instance_attr = instance_attr"
   ]
  },
  {
   "cell_type": "markdown",
   "metadata": {},
   "source": [
    "### Property\n",
    "\n",
    "Een property wordt gebruikt om een specifieke eigenschap van een class aan te duiden; vaak is het een speciale methode die een eigenschap ophaalt. "
   ]
  },
  {
   "cell_type": "code",
   "execution_count": 3,
   "metadata": {},
   "outputs": [
    {
     "data": {
      "text/plain": [
       "600"
      ]
     },
     "execution_count": 3,
     "metadata": {},
     "output_type": "execute_result"
    }
   ],
   "source": [
    "class Rectangle:\n",
    "\n",
    "    def __init__(self, width, height):\n",
    "        self.width = width\n",
    "        self.height = height\n",
    "\n",
    "    def area(self):\n",
    "        return self.width * self.height\n",
    "    \n",
    "box = Rectangle(20, 30)\n",
    "box.area()"
   ]
  },
  {
   "cell_type": "markdown",
   "metadata": {},
   "source": [
    "### Private\n",
    "\n",
    "Code kunnen we 'verbergen' door ze private te maken. We doen dat door de prefix `__`"
   ]
  },
  {
   "cell_type": "code",
   "execution_count": 4,
   "metadata": {},
   "outputs": [
    {
     "ename": "AttributeError",
     "evalue": "'Rectangle' object has no attribute '__height'",
     "output_type": "error",
     "traceback": [
      "\u001b[0;31m---------------------------------------------------------------------------\u001b[0m",
      "\u001b[0;31mAttributeError\u001b[0m                            Traceback (most recent call last)",
      "\u001b[0;32m<ipython-input-4-94f79e4d7e0f>\u001b[0m in \u001b[0;36m<module>\u001b[0;34m\u001b[0m\n\u001b[1;32m      6\u001b[0m \u001b[0;34m\u001b[0m\u001b[0m\n\u001b[1;32m      7\u001b[0m \u001b[0mx\u001b[0m \u001b[0;34m=\u001b[0m \u001b[0mRectangle\u001b[0m\u001b[0;34m(\u001b[0m\u001b[0;36m10\u001b[0m\u001b[0;34m,\u001b[0m \u001b[0;36m20\u001b[0m\u001b[0;34m)\u001b[0m\u001b[0;34m\u001b[0m\u001b[0;34m\u001b[0m\u001b[0m\n\u001b[0;32m----> 8\u001b[0;31m \u001b[0mprint\u001b[0m\u001b[0;34m(\u001b[0m\u001b[0mx\u001b[0m\u001b[0;34m.\u001b[0m\u001b[0m__height\u001b[0m\u001b[0;34m)\u001b[0m\u001b[0;34m\u001b[0m\u001b[0;34m\u001b[0m\u001b[0m\n\u001b[0m",
      "\u001b[0;31mAttributeError\u001b[0m: 'Rectangle' object has no attribute '__height'"
     ]
    }
   ],
   "source": [
    "class Rectangle:\n",
    "\n",
    "    def __init__(self, width, height):\n",
    "        self.width = width\n",
    "        self.__height = height\n",
    "        \n",
    "x = Rectangle(10, 20)\n",
    "print(x.__height)"
   ]
  },
  {
   "cell_type": "markdown",
   "metadata": {},
   "source": [
    "## Opdracht\n",
    "\n",
    "Lees de onderstaande code en beantwoord de vragen.\n",
    "\n",
    "- Hoeveel classes heeft de code?\n",
    "- Hoeveel instanties van de classes worden er gecreeerd?\n",
    "- Heeft elke class een constructor?\n",
    "- Worden er ook classe attribute gebruikt? Zoja welke?\n",
    "- Welke attributen zijn private?\n",
    "- Welke attributen zou je private kunnen maken?\n",
    "- Hebben de classes ook properties? Zoja, welke zijn dat?\n",
    "- Zou je van een methode ook een property kunnen maken? Welke methode?\n",
    "- Waarom is OO een goede vorm van programmeren?\n",
    "- Wat vind je van de kwaliteit van de code? Waarom?"
   ]
  },
  {
   "cell_type": "code",
   "execution_count": 10,
   "metadata": {},
   "outputs": [
    {
     "name": "stdout",
     "output_type": "stream",
     "text": [
      "The number of critical persons is: 4\n",
      "name: Jasper\n",
      "score: 100\n",
      "sequence: ATG-TCT-TAC-AAT-TTT-ACA-GGT-ACG-CCT-ACA-GGC-GAA-GGA\n",
      "name: Marcel\n",
      "score: 98\n",
      "sequence: ACG-GGT-GGT-AAC-TCG-TTG-ACA-ACA-GAT-TTG-AAT-ACA-CAA\n",
      "name: Piet\n",
      "score: 90\n",
      "sequence: TTT-GAC-TTG-GCC-AAC-ATG-GGA-TGG-ATC-GGT-GTG-GCT-TCA\n",
      "name: Ronald\n",
      "score: 95\n",
      "sequence: GCA-GGT-GTG-TGG-ATT-ATG-GTC-CCA-GGT-ATC-GGT-TTA-TTA\n"
     ]
    }
   ],
   "source": [
    "# een klasse “CriticalSeq” die elk element uit de fasta-header kan bevatten \n",
    "class CriticalSeq:\n",
    "    \n",
    "    number_of_reads = 0\n",
    "    persons = list()\n",
    "    \n",
    "    def __init__(self, name, position, quality, score):\n",
    "        self.name = name\n",
    "        self.position = position\n",
    "        self.__quality = quality\n",
    "        self.score = score\n",
    "        self.seq = ''\n",
    "        CriticalSeq.number_of_reads += 1\n",
    "        CriticalSeq.persons.append(name)\n",
    " \n",
    "    def __str__(self):\n",
    "        return \"name: {}\\nscore: {}\\nsequence: {}\".format(self.name, self.score, self.seq)\n",
    "\n",
    "    def __contains__(self, person):\n",
    "        return person in CriticalSeq.persons\n",
    "\n",
    "class CritalFasta:\n",
    "    \n",
    "    def __init__(self, file):\n",
    "        self.reads = []\n",
    "        self.index = 0\n",
    "        self.read_fasta(file)\n",
    "        self.file = file\n",
    "    my_obj = CriticalSeq(vars[0].replace(\">\", \"\"), vars[1], vars[2], vars[3])\n",
    "    def read_fasta(self):\n",
    "        my_obj = ''\n",
    "        with open(file,'r') as FILE:\n",
    "            for line in FILE:\n",
    "                line = line.strip()\n",
    "                if line.startswith(\">\"):\n",
    "                    vars = line.split(\";\")\n",
    "                    my_obj = CriticalSeq(vars[0].replace(\">\", \"\"), vars[1], vars[2], vars[3])\n",
    "                else:\n",
    "                    my_obj.seq = line.strip()\n",
    "                    self.reads.append(my_obj)\n",
    "    \n",
    "    def __iter__(self):\n",
    "        return self\n",
    " \n",
    "    def __next__(self):\n",
    "        if self.index == len(self.reads):\n",
    "            self.index = 0\n",
    "            raise StopIteration\n",
    "        else:\n",
    "            self.index += 1\n",
    "            return self.reads[self.index-1]\n",
    " \n",
    "    def __len__():\n",
    "        return len(self.reads)\n",
    "\n",
    "    def __contains__(self, person):\n",
    "        persons = [obj.name for obj in self.reads]\n",
    "        return person in persons\n",
    "\n",
    "\n",
    "my_cf = CritalFasta(\"critical.fsa\")\n",
    "print(\"The number of critical persons is: {}\".format(CriticalSeq.number_of_reads))\n",
    "for i in my_cf:\n",
    "    print(i)\n"
   ]
  },
  {
   "cell_type": "markdown",
   "metadata": {},
   "source": [
    "## class diagrams\n",
    "\n",
    "Class diagrammen (klassediagrammen) zijn een grafische weergave van de attributen en de methods van een klasse. Lees de volgende tutorial: \n",
    "https://www.tutorialspoint.com/uml/uml_class_diagram.htm. Teken nu een class diagram van de code `shape.py` die je in de voorbeeldscripts folder kunt vinden"
   ]
  }
 ],
 "metadata": {
  "kernelspec": {
   "display_name": "Python 3",
   "language": "python",
   "name": "python3"
  },
  "language_info": {
   "codemirror_mode": {
    "name": "ipython",
    "version": 3
   },
   "file_extension": ".py",
   "mimetype": "text/x-python",
   "name": "python",
   "nbconvert_exporter": "python",
   "pygments_lexer": "ipython3",
   "version": "3.8.7"
  }
 },
 "nbformat": 4,
 "nbformat_minor": 2
}
