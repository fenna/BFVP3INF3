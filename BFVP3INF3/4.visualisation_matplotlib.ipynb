{
 "cells": [
  {
   "cell_type": "markdown",
   "metadata": {},
   "source": [
    "# Theory of matplotlib"
   ]
  },
  {
   "cell_type": "markdown",
   "metadata": {},
   "source": [
    "[Matplotlib](https://matplotlib.org/stable/index.html) is an open source tool kit for representing and visualizing data. It's based the MATLAB programming environment and borrows many of these elements.\n",
    "\n",
    "In order to use it, you of course need to install it on your system or in your virtual environment (`pip install matplotlib`). After that, you can import it into Python:"
   ]
  },
  {
   "cell_type": "code",
   "execution_count": 2,
   "metadata": {},
   "outputs": [],
   "source": [
    "import matplotlib"
   ]
  },
  {
   "cell_type": "markdown",
   "metadata": {},
   "source": [
    "Matplotlib has several layers. \n",
    "\n",
    "- A **backend** layer, which deals with the rendering of plots to screen or files\n",
    "- An **artist** layer on top of the backend, which describes how data is arranged and which shapes are used.\n",
    "- A **scripting** layer, which simplifies access to the Artist and Backend layers\n",
    "\n",
    "see http://www.aosabook.org/en/matplotlib.html\n"
   ]
  },
  {
   "cell_type": "markdown",
   "metadata": {},
   "source": [
    "### Backend layer"
   ]
  },
  {
   "cell_type": "markdown",
   "metadata": {},
   "source": [
    "A backend is an abstraction layer which knows how to interact with the operating environment. This environment can be an operating system (mac-os, linux, windows etc.) or the browser. The backend knows how to render matplotlib commands. In jupyter notebooks we use the inline backend. \n",
    "\n",
    "Jupyter has some specialized support for matplotlib and this is enabled by using the IPython magic `%matplotlib notebook`. It configures matplotlib to render into the browser. "
   ]
  },
  {
   "cell_type": "code",
   "execution_count": null,
   "metadata": {},
   "outputs": [],
   "source": [
    "import matplotlib\n",
    "%matplotlib inline"
   ]
  },
  {
   "cell_type": "code",
   "execution_count": null,
   "metadata": {},
   "outputs": [],
   "source": [
    "import matplotlib as mpl"
   ]
  },
  {
   "cell_type": "markdown",
   "metadata": {},
   "source": [
    "matplotlib has a lot of **non pythonic** naming conventions, like `get` and `set`. These patterns are more common in java. You can hit Tab though for type hint autocompletion in the Jupyter Notebook. "
   ]
  },
  {
   "cell_type": "markdown",
   "metadata": {},
   "source": [
    "### Artist layer"
   ]
  },
  {
   "cell_type": "markdown",
   "metadata": {},
   "source": [
    "The artist layer is an abstraction around drawing and layout primitives. It contains containers such as `Figure`, `Subplot`, and `Axes`. It also contains primitives, such as a `Line2D` and `Rectangle`, and collections, such as a `PathCollection`. \n",
    "\n",
    "The Artist hierarchy is the middle layer of the matplotlib stack, and is the place where much of the heavy lifting happens. Consider `FigureCanvas` from the backend as the paper, the `Artist` is the object that knows how to take the Renderer (the paintbrush) and put ink on the canvas. Everything you see in a matplotlib Figure is an Artist instance (axes, titles, lines etc). See https://matplotlib.org/1.3.0/api/artist_api.html"
   ]
  },
  {
   "cell_type": "code",
   "execution_count": 3,
   "metadata": {},
   "outputs": [],
   "source": [
    "__author__ = 'John Hunter and Michael Droettboom'\n",
    "\n",
    "# Import the FigureCanvas from the backend of your choice\n",
    "#  and attach the Figure artist to it.\n",
    "from matplotlib.backends.backend_agg import FigureCanvasAgg as FigureCanvas\n",
    "from matplotlib.figure import Figure\n",
    "fig = Figure()\n",
    "canvas = FigureCanvas(fig)\n",
    "\n",
    "# Import the numpy library to generate the random numbers.\n",
    "import numpy as np\n",
    "x = np.random.randn(10000)\n",
    "\n",
    "# Now use a figure method to create an Axes artist; the Axes artist is\n",
    "#  added automatically to the figure container fig.axes.\n",
    "# Here \"111\" is from the MATLAB convention: create a grid with 1 row and 1\n",
    "#  column, and use the first cell in that grid for the location of the new\n",
    "#  Axes.\n",
    "ax = fig.add_subplot(111)\n",
    "\n",
    "# Call the Axes method hist to generate the histogram; hist creates a\n",
    "#  sequence of Rectangle artists for each histogram bar and adds them\n",
    "#  to the Axes container.  Here \"100\" means create 100 bins.\n",
    "ax.hist(x, 10)\n",
    "\n",
    "# Decorate the figure with a title and save it.\n",
    "ax.set_title('Normal distribution with $\\mu=0, \\sigma=1$')\n",
    "\n",
    "# the backend - the one for the jupiter notebooks -  isn't able to render this directly. \n",
    "# It expects the scripting layer pyplot to have created all of the objects. \n",
    "# we'll save the figure to a png file instead and do a quick html cell magic and execute that, \n",
    "# and see the rendered image.\n",
    "canvas.print_png('matplotlib_histogram.png')\n",
    "#fig.savefig('matplotlib_histogram.png')"
   ]
  },
  {
   "cell_type": "code",
   "execution_count": 4,
   "metadata": {},
   "outputs": [
    {
     "data": {
      "text/html": [
       "<img src = 'matplotlib_histogram.png' />\n"
      ],
      "text/plain": [
       "<IPython.core.display.HTML object>"
      ]
     },
     "metadata": {},
     "output_type": "display_data"
    }
   ],
   "source": [
    "%%html\n",
    "<img src = 'matplotlib_histogram.png' />"
   ]
  },
  {
   "cell_type": "markdown",
   "metadata": {},
   "source": [
    "### Scripting layer\n",
    "\n",
    "The scripting layer simplifies access to the `Artist` and `Backend` layers. A common used scripting layer is `pyplot`"
   ]
  },
  {
   "cell_type": "code",
   "execution_count": 5,
   "metadata": {},
   "outputs": [
    {
     "data": {
      "image/png": "[encoded data removed]",
      "text/plain": [
       "<Figure size 432x288 with 1 Axes>"
      ]
     },
     "metadata": {
      "needs_background": "light"
     },
     "output_type": "display_data"
    }
   ],
   "source": [
    "import matplotlib.pyplot as plt\n",
    "import numpy as np\n",
    "\n",
    "x = np.random.randn(10000)\n",
    "plt.hist(x, 100)\n",
    "plt.title(r'Normal distribution with $\\mu=0, \\sigma=1$')\n",
    "plt.show()"
   ]
  },
  {
   "cell_type": "markdown",
   "metadata": {},
   "source": [
    "### Another example: Basic plots\n"
   ]
  },
  {
   "cell_type": "markdown",
   "metadata": {},
   "source": [
    "As you can see the the pyplot scripting interface is managing a lot of objects for you. It keeps track of the latest figure (Figure1), of sub plots and of the axis objects. The pyplot module itself has a function which is called `plot` taking care of redirecting calls to the current axis object.\n"
   ]
  },
  {
   "cell_type": "code",
   "execution_count": 6,
   "metadata": {},
   "outputs": [],
   "source": [
    "from matplotlib.backends.backend_agg import FigureCanvasAgg as FigureCanvas\n",
    "from matplotlib.figure import Figure\n",
    "\n",
    "#create a new figure and assiociate it with the back end\n",
    "fig = Figure()\n",
    "canvas = FigureCanvas(fig)\n",
    "ax = fig.add_subplot(111)\n",
    "ax.plot(3,4, '.')\n",
    "canvas.print_png('test.png')"
   ]
  },
  {
   "cell_type": "code",
   "execution_count": 7,
   "metadata": {},
   "outputs": [
    {
     "data": {
      "text/html": [
       "<img src = 'test.png' />\n"
      ],
      "text/plain": [
       "<IPython.core.display.HTML object>"
      ]
     },
     "metadata": {},
     "output_type": "display_data"
    }
   ],
   "source": [
    "%%html\n",
    "<img src = 'test.png' />"
   ]
  },
  {
   "cell_type": "markdown",
   "metadata": {},
   "source": [
    "### Overlay artist shapes\n",
    "\n",
    "You can add artists to an axes object at any time. Pyplot is doing that for us when we call the plot function. It's determining what shape we want from the string, the location associate with that shape, then it's creating a patch object and adding that to the axes. For instance if i add three datapoints to an axes object it will put that on the same figure. The points are rendered in different colors, as the axes object recognizes them as different data series.\n"
   ]
  },
  {
   "cell_type": "code",
   "execution_count": 8,
   "metadata": {
    "scrolled": true
   },
   "outputs": [
    {
     "data": {
      "image/png": "[encoded data removed]",
      "text/plain": [
       "<Figure size 432x288 with 1 Axes>"
      ]
     },
     "metadata": {
      "needs_background": "light"
     },
     "output_type": "display_data"
    }
   ],
   "source": [
    "plt.figure()\n",
    "plt.plot(1,1, 'o')\n",
    "plt.plot(2,2, 'o')\n",
    "plt.plot(3,3, 'o')\n",
    "plt.show()"
   ]
  },
  {
   "cell_type": "markdown",
   "metadata": {},
   "source": [
    "### Behind the scenes "
   ]
  },
  {
   "cell_type": "code",
   "execution_count": 9,
   "metadata": {},
   "outputs": [
    {
     "data": {
      "text/plain": [
       "[<matplotlib.spines.Spine at 0x7f99ed9ccaf0>,\n",
       " <matplotlib.spines.Spine at 0x7f99ed9cc520>,\n",
       " <matplotlib.spines.Spine at 0x7f99ed761910>,\n",
       " <matplotlib.spines.Spine at 0x7f99ed9c50d0>,\n",
       " <matplotlib.axis.XAxis at 0x7f99ed9d29a0>,\n",
       " <matplotlib.axis.YAxis at 0x7f99edaa1880>,\n",
       " Text(0.5, 1.0, ''),\n",
       " Text(0.0, 1.0, ''),\n",
       " Text(1.0, 1.0, ''),\n",
       " <matplotlib.patches.Rectangle at 0x7f99edaabeb0>]"
      ]
     },
     "execution_count": 9,
     "metadata": {},
     "output_type": "execute_result"
    },
    {
     "data": {
      "image/png": "[encoded data removed]",
      "text/plain": [
       "<Figure size 432x288 with 1 Axes>"
      ]
     },
     "metadata": {
      "needs_background": "light"
     },
     "output_type": "display_data"
    }
   ],
   "source": [
    "ax = plt.gca() #get access to the axes\n",
    "ax.get_children()"
   ]
  },
  {
   "cell_type": "markdown",
   "metadata": {},
   "source": [
    "We see:\n",
    "- The three line 2D objects are our data points. \n",
    "- The number of spines are actual renderings of the borders of the frame including tic markers\n",
    "- Two axis objects x and y axis\n",
    "- Text objects, which are the labels for the chart. \n",
    "- A rectangle which is the background for the axis"
   ]
  },
  {
   "cell_type": "markdown",
   "metadata": {},
   "source": [
    "### Access and change plot features\n",
    "Pyplot is going to retrieve the current figure with the function `gcf` and then get the current axes with the function `gca`. Pyplot is keeping track of the axes objects for you. However they're there and we can get them when we want to use them or modify them\n",
    "\n"
   ]
  },
  {
   "cell_type": "code",
   "execution_count": null,
   "metadata": {},
   "outputs": [],
   "source": [
    "%matplotlib notebook\n",
    "# Simple script for barplot\n",
    "import matplotlib.pyplot as plt\n",
    "import numpy as np\n",
    "\n",
    "plt.figure()\n",
    "\n",
    "languages =['Python', 'R', 'Java', 'C++', 'JavaScript']\n",
    "pos = np.arange(len(languages))\n",
    "popularity = [38, 6, 45, 25, 70]\n",
    "\n",
    "plt.bar(pos, popularity, align='center')\n",
    "plt.xticks(pos, languages)\n",
    "plt.ylabel('% Popularity')\n",
    "plt.title('5 Languages for Math & Data \\nby % Popularity on Stack Overflow')\n",
    " \n",
    "plt.show()"
   ]
  },
  {
   "cell_type": "code",
   "execution_count": null,
   "metadata": {
    "scrolled": false
   },
   "outputs": [],
   "source": [
    "%matplotlib notebook\n",
    "# Modified script for bar plot\n",
    "import matplotlib.pyplot as plt\n",
    "import numpy as np\n",
    "\n",
    "plt.figure()\n",
    "\n",
    "languages =['Python', 'R', 'Java', 'C++', 'JavaScript']\n",
    "pos = np.arange(len(languages))\n",
    "popularity = [38, 6, 45, 25, 70]\n",
    "\n",
    "# change the bar color to be less bright blue\n",
    "bars = plt.bar(pos, popularity, align='center', linewidth=0, color='lightslategrey')\n",
    "# change one bar, the python bar, to a contrasting color\n",
    "bars[0].set_color('#1F77B4')\n",
    "\n",
    "# soften all labels by turning grey\n",
    "plt.xticks(pos, languages, alpha=0.8)\n",
    "# remove the Y label since bars are directly labeled\n",
    "#plt.ylabel('% Popularity', alpha=0.8)\n",
    "plt.title('5 Languages for Math & Data \\nby % popularity on Stack Overflow', alpha=0.8)\n",
    "\n",
    "# remove all the ticks (both axes), and tick labels on the Y axis\n",
    "plt.tick_params(top='off', bottom='off', left='off', right='off', labelleft='off', labelbottom='on')\n",
    "\n",
    "# remove the frame of the chart\n",
    "for spine in plt.gca().spines.values():\n",
    "    spine.set_visible(False)\n",
    "\n",
    "    \n",
    "# direct label each bar with Y axis values\n",
    "for bar in bars:\n",
    "    height = bar.get_height()\n",
    "    plt.gca().text(bar.get_x() + bar.get_width()/2, bar.get_height() - 5, str(int(height)) + '%', \n",
    "                 ha='center', color='w', fontsize=11)\n",
    "plt.show()"
   ]
  },
  {
   "cell_type": "markdown",
   "metadata": {},
   "source": [
    "---"
   ]
  },
  {
   "cell_type": "markdown",
   "metadata": {},
   "source": [
    "## Casus the heatmap\n",
    "The following code demonstrates the drawing of a heatmap. It is your job to add labels and titles"
   ]
  },
  {
   "cell_type": "code",
   "execution_count": null,
   "metadata": {},
   "outputs": [],
   "source": [
    "# do not change this code. It just reads a table into a dataframe (matrix)\n",
    "import pandas as pd\n",
    "df = pd.read_table('data/count.data')\n",
    "df.index = df['geneID']\n",
    "df = df.drop('geneID', axis=1)\n",
    "df.head()\n",
    "#end do not change this code"
   ]
  },
  {
   "cell_type": "code",
   "execution_count": null,
   "metadata": {},
   "outputs": [],
   "source": [
    "#let us create a heatmap\n",
    "#change the plt into a more fancy plot with labels etc\n",
    "plt.figure()\n",
    "plt.imshow(df, cmap=\"YlGnBu\")\n",
    "plt.colorbar()\n",
    "plt.show()\n"
   ]
  },
  {
   "cell_type": "markdown",
   "metadata": {},
   "source": [
    "## Casus the Iris dataset\n",
    "The following code is a demonstration of two drawings of the iris dataset. Can you change the first one in sepal width and sepal length"
   ]
  },
  {
   "cell_type": "code",
   "execution_count": null,
   "metadata": {},
   "outputs": [],
   "source": [
    "from sklearn.datasets import load_iris\n",
    "iris = load_iris()\n",
    "X = iris.data[:, 2:] # petal length and width\n",
    "y = iris.target # kind of iris\n",
    "\n",
    "plt.figure()\n",
    "plt.plot(X[:, 0][y==0], X[:, 1][y==0], \"yo\", label=\"Iris-Setosa\")\n",
    "plt.plot(X[:, 0][y==1], X[:, 1][y==1], \"bs\", label=\"Iris-Versicolor\")\n",
    "plt.plot(X[:, 0][y==2], X[:, 1][y==2], \"g^\", label=\"Iris-Virginica\")\n",
    "plt.xlabel(\"Petal length\", fontsize=14)\n",
    "plt.ylabel(\"Petal width\", fontsize=14)\n",
    "plt.legend()\n",
    "plt.show()"
   ]
  },
  {
   "cell_type": "code",
   "execution_count": null,
   "metadata": {},
   "outputs": [],
   "source": [
    "# Load the data\n",
    "from sklearn.datasets import load_iris\n",
    "iris = load_iris()\n",
    "\n",
    "from matplotlib import pyplot as plt\n",
    "\n",
    "# The indices of the features that we are plotting\n",
    "x_index = 0\n",
    "y_index = 1\n",
    "\n",
    "\n",
    "# this formatter will label the colorbar with the correct target names\n",
    "formatter = plt.FuncFormatter(lambda i, *args: iris.target_names[int(i)])\n",
    "\n",
    "plt.figure(figsize=(5, 4))\n",
    "plt.scatter(iris.data[:, x_index], iris.data[:, y_index], c=iris.target)\n",
    "plt.colorbar(ticks=[0, 1, 2], format=formatter)\n",
    "plt.xlabel(iris.feature_names[x_index])\n",
    "plt.ylabel(iris.feature_names[y_index])\n",
    "\n",
    "plt.tight_layout()\n",
    "plt.show()"
   ]
  },
  {
   "cell_type": "markdown",
   "metadata": {},
   "source": [
    "## Assignment\n",
    "\n",
    "Can you create a line plot?"
   ]
  },
  {
   "cell_type": "markdown",
   "metadata": {},
   "source": [
    "### Documentation\n",
    "Further more, remember that the function declaration from most of the functions in matplotlib end with an open set of keyword arguments. There are a lot of different properties you can control through these keyword arguments. More documentation is to be found on https://matplotlib.org/contents.html and a good cheat sheet is https://s3.amazonaws.com/assets.datacamp.com/blog_assets/Python_Matplotlib_Cheat_Sheet.pdf"
   ]
  }
 ],
 "metadata": {
  "kernelspec": {
   "display_name": "Python 3",
   "language": "python",
   "name": "python3"
  },
  "language_info": {
   "codemirror_mode": {
    "name": "ipython",
    "version": 3
   },
   "file_extension": ".py",
   "mimetype": "text/x-python",
   "name": "python",
   "nbconvert_exporter": "python",
   "pygments_lexer": "ipython3",
   "version": "3.8.7"
  }
 },
 "nbformat": 4,
 "nbformat_minor": 2
}
